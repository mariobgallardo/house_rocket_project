{
 "cells": [
  {
   "cell_type": "markdown",
   "id": "9ac22927",
   "metadata": {},
   "source": [
    "# 0.0. Imports"
   ]
  },
  {
   "cell_type": "code",
   "execution_count": 62,
   "id": "459b8879",
   "metadata": {
    "ExecuteTime": {
     "end_time": "2021-10-06T19:46:22.152047Z",
     "start_time": "2021-10-06T19:46:22.145054Z"
    }
   },
   "outputs": [],
   "source": [
    "#importing libraries\n",
    "import pandas as pd\n",
    "import seaborn as sns\n",
    "import numpy as np\n",
    "import matplotlib.pyplot as plt\n",
    "\n",
    "from IPython.core.display import HTML\n",
    "from IPython.display import Image"
   ]
  },
  {
   "cell_type": "markdown",
   "id": "9db5fb28",
   "metadata": {},
   "source": [
    "### 0.1. Helper Functions"
   ]
  },
  {
   "cell_type": "code",
   "execution_count": 63,
   "id": "a044816a",
   "metadata": {
    "ExecuteTime": {
     "end_time": "2021-10-06T19:46:22.167038Z",
     "start_time": "2021-10-06T19:46:22.155044Z"
    }
   },
   "outputs": [],
   "source": [
    "def jupyter_settings():\n",
    "    %matplotlib inline\n",
    "    %pylab inline\n",
    "    \n",
    "    plt.style.use( 'bmh' )\n",
    "    plt.rcParams['figure.figsize']=[25,12]\n",
    "    plt.rcParams['font.size'] = 24\n",
    "    \n",
    "    display( HTML( '<style>.container {widht:100% !important; }</style>') )\n",
    "    pd.options.display.max_columns = None\n",
    "    pd.options.display.max_rows = None\n",
    "    pd.set_option( 'display.expand_frame_repr', False )\n",
    "    \n",
    "    sns.set()"
   ]
  },
  {
   "cell_type": "code",
   "execution_count": 64,
   "id": "ef64c5e7",
   "metadata": {
    "ExecuteTime": {
     "end_time": "2021-10-06T19:46:22.183029Z",
     "start_time": "2021-10-06T19:46:22.170037Z"
    }
   },
   "outputs": [
    {
     "name": "stdout",
     "output_type": "stream",
     "text": [
      "Populating the interactive namespace from numpy and matplotlib\n"
     ]
    },
    {
     "data": {
      "text/html": [
       "<style>.container {widht:100% !important; }</style>"
      ],
      "text/plain": [
       "<IPython.core.display.HTML object>"
      ]
     },
     "metadata": {},
     "output_type": "display_data"
    }
   ],
   "source": [
    "jupyter_settings()"
   ]
  },
  {
   "cell_type": "markdown",
   "id": "d7385b22",
   "metadata": {},
   "source": [
    "### 0.2. Loading Data"
   ]
  },
  {
   "cell_type": "code",
   "execution_count": 65,
   "id": "54cbc75a",
   "metadata": {
    "ExecuteTime": {
     "end_time": "2021-10-06T19:46:22.262977Z",
     "start_time": "2021-10-06T19:46:22.186027Z"
    }
   },
   "outputs": [
    {
     "data": {
      "text/html": [
       "<div>\n",
       "<style scoped>\n",
       "    .dataframe tbody tr th:only-of-type {\n",
       "        vertical-align: middle;\n",
       "    }\n",
       "\n",
       "    .dataframe tbody tr th {\n",
       "        vertical-align: top;\n",
       "    }\n",
       "\n",
       "    .dataframe thead th {\n",
       "        text-align: right;\n",
       "    }\n",
       "</style>\n",
       "<table border=\"1\" class=\"dataframe\">\n",
       "  <thead>\n",
       "    <tr style=\"text-align: right;\">\n",
       "      <th></th>\n",
       "      <th>id</th>\n",
       "      <th>date</th>\n",
       "      <th>price</th>\n",
       "      <th>bedrooms</th>\n",
       "      <th>bathrooms</th>\n",
       "      <th>sqft_living</th>\n",
       "      <th>sqft_lot</th>\n",
       "      <th>floors</th>\n",
       "      <th>waterfront</th>\n",
       "      <th>view</th>\n",
       "      <th>condition</th>\n",
       "      <th>grade</th>\n",
       "      <th>sqft_above</th>\n",
       "      <th>sqft_basement</th>\n",
       "      <th>yr_built</th>\n",
       "      <th>yr_renovated</th>\n",
       "      <th>zipcode</th>\n",
       "      <th>lat</th>\n",
       "      <th>long</th>\n",
       "      <th>sqft_living15</th>\n",
       "      <th>sqft_lot15</th>\n",
       "    </tr>\n",
       "  </thead>\n",
       "  <tbody>\n",
       "    <tr>\n",
       "      <th>0</th>\n",
       "      <td>7129300520</td>\n",
       "      <td>20141013T000000</td>\n",
       "      <td>221900.0</td>\n",
       "      <td>3</td>\n",
       "      <td>1.00</td>\n",
       "      <td>1180</td>\n",
       "      <td>5650</td>\n",
       "      <td>1.0</td>\n",
       "      <td>0</td>\n",
       "      <td>0</td>\n",
       "      <td>3</td>\n",
       "      <td>7</td>\n",
       "      <td>1180</td>\n",
       "      <td>0</td>\n",
       "      <td>1955</td>\n",
       "      <td>0</td>\n",
       "      <td>98178</td>\n",
       "      <td>47.5112</td>\n",
       "      <td>-122.257</td>\n",
       "      <td>1340</td>\n",
       "      <td>5650</td>\n",
       "    </tr>\n",
       "    <tr>\n",
       "      <th>1</th>\n",
       "      <td>6414100192</td>\n",
       "      <td>20141209T000000</td>\n",
       "      <td>538000.0</td>\n",
       "      <td>3</td>\n",
       "      <td>2.25</td>\n",
       "      <td>2570</td>\n",
       "      <td>7242</td>\n",
       "      <td>2.0</td>\n",
       "      <td>0</td>\n",
       "      <td>0</td>\n",
       "      <td>3</td>\n",
       "      <td>7</td>\n",
       "      <td>2170</td>\n",
       "      <td>400</td>\n",
       "      <td>1951</td>\n",
       "      <td>1991</td>\n",
       "      <td>98125</td>\n",
       "      <td>47.7210</td>\n",
       "      <td>-122.319</td>\n",
       "      <td>1690</td>\n",
       "      <td>7639</td>\n",
       "    </tr>\n",
       "    <tr>\n",
       "      <th>2</th>\n",
       "      <td>5631500400</td>\n",
       "      <td>20150225T000000</td>\n",
       "      <td>180000.0</td>\n",
       "      <td>2</td>\n",
       "      <td>1.00</td>\n",
       "      <td>770</td>\n",
       "      <td>10000</td>\n",
       "      <td>1.0</td>\n",
       "      <td>0</td>\n",
       "      <td>0</td>\n",
       "      <td>3</td>\n",
       "      <td>6</td>\n",
       "      <td>770</td>\n",
       "      <td>0</td>\n",
       "      <td>1933</td>\n",
       "      <td>0</td>\n",
       "      <td>98028</td>\n",
       "      <td>47.7379</td>\n",
       "      <td>-122.233</td>\n",
       "      <td>2720</td>\n",
       "      <td>8062</td>\n",
       "    </tr>\n",
       "    <tr>\n",
       "      <th>3</th>\n",
       "      <td>2487200875</td>\n",
       "      <td>20141209T000000</td>\n",
       "      <td>604000.0</td>\n",
       "      <td>4</td>\n",
       "      <td>3.00</td>\n",
       "      <td>1960</td>\n",
       "      <td>5000</td>\n",
       "      <td>1.0</td>\n",
       "      <td>0</td>\n",
       "      <td>0</td>\n",
       "      <td>5</td>\n",
       "      <td>7</td>\n",
       "      <td>1050</td>\n",
       "      <td>910</td>\n",
       "      <td>1965</td>\n",
       "      <td>0</td>\n",
       "      <td>98136</td>\n",
       "      <td>47.5208</td>\n",
       "      <td>-122.393</td>\n",
       "      <td>1360</td>\n",
       "      <td>5000</td>\n",
       "    </tr>\n",
       "    <tr>\n",
       "      <th>4</th>\n",
       "      <td>1954400510</td>\n",
       "      <td>20150218T000000</td>\n",
       "      <td>510000.0</td>\n",
       "      <td>3</td>\n",
       "      <td>2.00</td>\n",
       "      <td>1680</td>\n",
       "      <td>8080</td>\n",
       "      <td>1.0</td>\n",
       "      <td>0</td>\n",
       "      <td>0</td>\n",
       "      <td>3</td>\n",
       "      <td>8</td>\n",
       "      <td>1680</td>\n",
       "      <td>0</td>\n",
       "      <td>1987</td>\n",
       "      <td>0</td>\n",
       "      <td>98074</td>\n",
       "      <td>47.6168</td>\n",
       "      <td>-122.045</td>\n",
       "      <td>1800</td>\n",
       "      <td>7503</td>\n",
       "    </tr>\n",
       "  </tbody>\n",
       "</table>\n",
       "</div>"
      ],
      "text/plain": [
       "           id             date     price  bedrooms  bathrooms  sqft_living  sqft_lot  floors  waterfront  view  condition  grade  sqft_above  sqft_basement  yr_built  yr_renovated  zipcode      lat     long  sqft_living15  sqft_lot15\n",
       "0  7129300520  20141013T000000  221900.0         3       1.00         1180      5650     1.0           0     0          3      7        1180              0      1955             0    98178  47.5112 -122.257           1340        5650\n",
       "1  6414100192  20141209T000000  538000.0         3       2.25         2570      7242     2.0           0     0          3      7        2170            400      1951          1991    98125  47.7210 -122.319           1690        7639\n",
       "2  5631500400  20150225T000000  180000.0         2       1.00          770     10000     1.0           0     0          3      6         770              0      1933             0    98028  47.7379 -122.233           2720        8062\n",
       "3  2487200875  20141209T000000  604000.0         4       3.00         1960      5000     1.0           0     0          5      7        1050            910      1965             0    98136  47.5208 -122.393           1360        5000\n",
       "4  1954400510  20150218T000000  510000.0         3       2.00         1680      8080     1.0           0     0          3      8        1680              0      1987             0    98074  47.6168 -122.045           1800        7503"
      ]
     },
     "execution_count": 65,
     "metadata": {},
     "output_type": "execute_result"
    }
   ],
   "source": [
    "#Reading data\n",
    "df = pd.read_csv('kc_house_data.csv')\n",
    "df.head()"
   ]
  },
  {
   "cell_type": "markdown",
   "id": "e8d80ef9",
   "metadata": {},
   "source": [
    "# 1.0. Data Description"
   ]
  },
  {
   "cell_type": "markdown",
   "id": "7902e8ea",
   "metadata": {},
   "source": [
    "### 1.1. Data Dimensions"
   ]
  },
  {
   "cell_type": "code",
   "execution_count": 66,
   "id": "7654a43a",
   "metadata": {
    "ExecuteTime": {
     "end_time": "2021-10-06T19:46:22.278967Z",
     "start_time": "2021-10-06T19:46:22.263977Z"
    }
   },
   "outputs": [
    {
     "name": "stdout",
     "output_type": "stream",
     "text": [
      "Number of rows: 21613\n",
      "Number of columns: 21\n"
     ]
    }
   ],
   "source": [
    "print( 'Number of rows: {}'.format( df.shape[0] ) )\n",
    "print( 'Number of columns: {}'.format( df.shape[1] ) )"
   ]
  },
  {
   "cell_type": "markdown",
   "id": "8a6f3b06",
   "metadata": {},
   "source": [
    "### 1.2. Data Types"
   ]
  },
  {
   "cell_type": "code",
   "execution_count": 67,
   "id": "35763d6e",
   "metadata": {
    "ExecuteTime": {
     "end_time": "2021-10-06T19:46:22.310948Z",
     "start_time": "2021-10-06T19:46:22.280966Z"
    }
   },
   "outputs": [
    {
     "name": "stdout",
     "output_type": "stream",
     "text": [
      "<class 'pandas.core.frame.DataFrame'>\n",
      "RangeIndex: 21613 entries, 0 to 21612\n",
      "Data columns (total 21 columns):\n",
      " #   Column         Non-Null Count  Dtype  \n",
      "---  ------         --------------  -----  \n",
      " 0   id             21613 non-null  int64  \n",
      " 1   date           21613 non-null  object \n",
      " 2   price          21613 non-null  float64\n",
      " 3   bedrooms       21613 non-null  int64  \n",
      " 4   bathrooms      21613 non-null  float64\n",
      " 5   sqft_living    21613 non-null  int64  \n",
      " 6   sqft_lot       21613 non-null  int64  \n",
      " 7   floors         21613 non-null  float64\n",
      " 8   waterfront     21613 non-null  int64  \n",
      " 9   view           21613 non-null  int64  \n",
      " 10  condition      21613 non-null  int64  \n",
      " 11  grade          21613 non-null  int64  \n",
      " 12  sqft_above     21613 non-null  int64  \n",
      " 13  sqft_basement  21613 non-null  int64  \n",
      " 14  yr_built       21613 non-null  int64  \n",
      " 15  yr_renovated   21613 non-null  int64  \n",
      " 16  zipcode        21613 non-null  int64  \n",
      " 17  lat            21613 non-null  float64\n",
      " 18  long           21613 non-null  float64\n",
      " 19  sqft_living15  21613 non-null  int64  \n",
      " 20  sqft_lot15     21613 non-null  int64  \n",
      "dtypes: float64(5), int64(15), object(1)\n",
      "memory usage: 3.5+ MB\n"
     ]
    }
   ],
   "source": [
    "df.info()"
   ]
  },
  {
   "cell_type": "markdown",
   "id": "a50a78cc",
   "metadata": {},
   "source": [
    "#### Main observations"
   ]
  },
  {
   "cell_type": "code",
   "execution_count": 68,
   "id": "6b9fb606",
   "metadata": {
    "ExecuteTime": {
     "end_time": "2021-10-06T19:46:22.325937Z",
     "start_time": "2021-10-06T19:46:22.312947Z"
    }
   },
   "outputs": [],
   "source": [
    "# Column 'date' isn't on datetime format\n",
    "\n",
    "# Features 'condition','grade','waterfront' and 'view' needs to be transformed on categorical variables for future analysis\n",
    "\n",
    "# There are no 'null' values on our dataset"
   ]
  },
  {
   "cell_type": "markdown",
   "id": "4b723ad1",
   "metadata": {},
   "source": [
    "### 1.3. Change Types"
   ]
  },
  {
   "cell_type": "markdown",
   "id": "d5e16f2e",
   "metadata": {},
   "source": [
    "#### 1.3.1 Adjusting column 'date'"
   ]
  },
  {
   "cell_type": "code",
   "execution_count": 69,
   "id": "231406eb",
   "metadata": {
    "ExecuteTime": {
     "end_time": "2021-10-06T19:46:22.341929Z",
     "start_time": "2021-10-06T19:46:22.327936Z"
    }
   },
   "outputs": [],
   "source": [
    "# Converting 'date' to datetime format\n",
    "df['date']=pd.to_datetime(df['date'],format='%Y/%m/%d')"
   ]
  },
  {
   "cell_type": "markdown",
   "id": "9594c1a1",
   "metadata": {},
   "source": [
    "#### 1.3.2 Converting numerical to categorical variables"
   ]
  },
  {
   "cell_type": "code",
   "execution_count": 70,
   "id": "92b786c2",
   "metadata": {
    "ExecuteTime": {
     "end_time": "2021-10-06T19:46:22.357920Z",
     "start_time": "2021-10-06T19:46:22.343928Z"
    }
   },
   "outputs": [
    {
     "name": "stdout",
     "output_type": "stream",
     "text": [
      "Values from \"condition\" column: [3 5 4 1 2]\n",
      "Values from \"grade\" column: [ 7  6  8 11  9  5 10 12  4  3 13  1]\n",
      "Values from \"waterfront\" column: [0 1]\n",
      "Values from \"view\" column: [0 3 4 2 1]\n"
     ]
    }
   ],
   "source": [
    "#Understanding columns \"condition\", \"grade\", \"waterfront\" and \"view\"\n",
    "print('Values from \"condition\" column: {}'.format(df['condition'].unique()))\n",
    "print('Values from \"grade\" column: {}'.format(df['grade'].unique()))\n",
    "print('Values from \"waterfront\" column: {}'.format(df['waterfront'].unique()))\n",
    "print('Values from \"view\" column: {}'.format(df['view'].unique()))"
   ]
  },
  {
   "cell_type": "code",
   "execution_count": 71,
   "id": "6fbda57e",
   "metadata": {
    "ExecuteTime": {
     "end_time": "2021-10-06T19:46:22.403891Z",
     "start_time": "2021-10-06T19:46:22.361917Z"
    }
   },
   "outputs": [],
   "source": [
    "# Setting up 'condition' column\n",
    "# 'condition' values goes from 1 to 5, so we'll be considering that:\n",
    "    # 1 and 2 ---- bad condition\n",
    "    # 3 ---------- regular condition\n",
    "    # 4 and 5 ---- good condition\n",
    "    \n",
    "df['condition'] = df['condition'].apply (lambda x:\n",
    "                                         'bad' if x < 3 else\n",
    "                                         'regular' if x == 3 else\n",
    "                                         'good')\n",
    "\n",
    "\n",
    "# Setting up 'grade' column\n",
    "# 'grade' values goes from 1 to 13, so we'll be considering that:\n",
    "    # 1 to 3 ---- low design\n",
    "    # 4 to 10---- average design\n",
    "    # 11 to 13--- high condition\n",
    "    \n",
    "df['grade'] = df['grade'].apply (lambda x:\n",
    "                                         'low design' if x <= 3 else\n",
    "                                         'average design' if (x >= 4) & (x<=10) else\n",
    "                                         'high design')\n",
    "\n",
    "# Setting up 'waterfront' column\n",
    "# 'waterfront' values 0 and 1, where:\n",
    "    # 0 ---- without waterfront view\n",
    "    # 1 ---- with waterfront view\n",
    "\n",
    "df['waterfront'] = df['waterfront'].apply (lambda x:'no' if x == 0 else 'yes')\n",
    "\n",
    "\n",
    "# Setting up 'view' column\n",
    "# 'view' values goes from 0 to 4, so we'll be considering that:\n",
    "    # 0 to 1 ---- bad\n",
    "    # 2  ---- regular\n",
    "    # 3 to 4 --- good\n",
    "  \n",
    "  \n",
    "df['view'] = df['view'].apply (lambda x:\n",
    "                                         'bad' if x <= 1 else\n",
    "                                         'regular' if x == 2 else\n",
    "                                         'good')"
   ]
  },
  {
   "cell_type": "markdown",
   "id": "e39a0aa1",
   "metadata": {},
   "source": [
    "### 1.4. Checking duplicate values"
   ]
  },
  {
   "cell_type": "code",
   "execution_count": 72,
   "id": "2890b35d",
   "metadata": {
    "ExecuteTime": {
     "end_time": "2021-10-06T19:46:22.419879Z",
     "start_time": "2021-10-06T19:46:22.405890Z"
    }
   },
   "outputs": [
    {
     "name": "stdout",
     "output_type": "stream",
     "text": [
      "There are 353 duplicate values\n"
     ]
    }
   ],
   "source": [
    "# Check duplicate 'ID' values from df\n",
    "aux = df[df['id'].duplicated(keep= False)]\n",
    "print('There are {} duplicate values'.format( len(aux) ) )"
   ]
  },
  {
   "cell_type": "code",
   "execution_count": 73,
   "id": "87066a2c",
   "metadata": {
    "ExecuteTime": {
     "end_time": "2021-10-06T19:46:22.451861Z",
     "start_time": "2021-10-06T19:46:22.421879Z"
    }
   },
   "outputs": [
    {
     "data": {
      "text/html": [
       "<div>\n",
       "<style scoped>\n",
       "    .dataframe tbody tr th:only-of-type {\n",
       "        vertical-align: middle;\n",
       "    }\n",
       "\n",
       "    .dataframe tbody tr th {\n",
       "        vertical-align: top;\n",
       "    }\n",
       "\n",
       "    .dataframe thead th {\n",
       "        text-align: right;\n",
       "    }\n",
       "</style>\n",
       "<table border=\"1\" class=\"dataframe\">\n",
       "  <thead>\n",
       "    <tr style=\"text-align: right;\">\n",
       "      <th></th>\n",
       "      <th>id</th>\n",
       "      <th>date</th>\n",
       "      <th>price</th>\n",
       "      <th>bedrooms</th>\n",
       "      <th>bathrooms</th>\n",
       "      <th>sqft_living</th>\n",
       "      <th>sqft_lot</th>\n",
       "      <th>floors</th>\n",
       "      <th>waterfront</th>\n",
       "      <th>view</th>\n",
       "      <th>condition</th>\n",
       "      <th>grade</th>\n",
       "      <th>sqft_above</th>\n",
       "      <th>sqft_basement</th>\n",
       "      <th>yr_built</th>\n",
       "      <th>yr_renovated</th>\n",
       "      <th>zipcode</th>\n",
       "      <th>lat</th>\n",
       "      <th>long</th>\n",
       "      <th>sqft_living15</th>\n",
       "      <th>sqft_lot15</th>\n",
       "    </tr>\n",
       "  </thead>\n",
       "  <tbody>\n",
       "    <tr>\n",
       "      <th>3950</th>\n",
       "      <td>1825069031</td>\n",
       "      <td>2014-08-14</td>\n",
       "      <td>550000.0</td>\n",
       "      <td>4</td>\n",
       "      <td>1.75</td>\n",
       "      <td>2410</td>\n",
       "      <td>8447</td>\n",
       "      <td>2.0</td>\n",
       "      <td>no</td>\n",
       "      <td>good</td>\n",
       "      <td>good</td>\n",
       "      <td>average design</td>\n",
       "      <td>2060</td>\n",
       "      <td>350</td>\n",
       "      <td>1936</td>\n",
       "      <td>1980</td>\n",
       "      <td>98074</td>\n",
       "      <td>47.6499</td>\n",
       "      <td>-122.088</td>\n",
       "      <td>2520</td>\n",
       "      <td>14789</td>\n",
       "    </tr>\n",
       "    <tr>\n",
       "      <th>3951</th>\n",
       "      <td>1825069031</td>\n",
       "      <td>2014-10-16</td>\n",
       "      <td>550000.0</td>\n",
       "      <td>4</td>\n",
       "      <td>1.75</td>\n",
       "      <td>2410</td>\n",
       "      <td>8447</td>\n",
       "      <td>2.0</td>\n",
       "      <td>no</td>\n",
       "      <td>good</td>\n",
       "      <td>good</td>\n",
       "      <td>average design</td>\n",
       "      <td>2060</td>\n",
       "      <td>350</td>\n",
       "      <td>1936</td>\n",
       "      <td>1980</td>\n",
       "      <td>98074</td>\n",
       "      <td>47.6499</td>\n",
       "      <td>-122.088</td>\n",
       "      <td>2520</td>\n",
       "      <td>14789</td>\n",
       "    </tr>\n",
       "    <tr>\n",
       "      <th>14982</th>\n",
       "      <td>6308000010</td>\n",
       "      <td>2014-12-08</td>\n",
       "      <td>585000.0</td>\n",
       "      <td>3</td>\n",
       "      <td>2.50</td>\n",
       "      <td>2290</td>\n",
       "      <td>5089</td>\n",
       "      <td>2.0</td>\n",
       "      <td>no</td>\n",
       "      <td>bad</td>\n",
       "      <td>regular</td>\n",
       "      <td>average design</td>\n",
       "      <td>2290</td>\n",
       "      <td>0</td>\n",
       "      <td>2001</td>\n",
       "      <td>0</td>\n",
       "      <td>98006</td>\n",
       "      <td>47.5443</td>\n",
       "      <td>-122.172</td>\n",
       "      <td>2290</td>\n",
       "      <td>7984</td>\n",
       "    </tr>\n",
       "    <tr>\n",
       "      <th>14983</th>\n",
       "      <td>6308000010</td>\n",
       "      <td>2015-04-23</td>\n",
       "      <td>585000.0</td>\n",
       "      <td>3</td>\n",
       "      <td>2.50</td>\n",
       "      <td>2290</td>\n",
       "      <td>5089</td>\n",
       "      <td>2.0</td>\n",
       "      <td>no</td>\n",
       "      <td>bad</td>\n",
       "      <td>regular</td>\n",
       "      <td>average design</td>\n",
       "      <td>2290</td>\n",
       "      <td>0</td>\n",
       "      <td>2001</td>\n",
       "      <td>0</td>\n",
       "      <td>98006</td>\n",
       "      <td>47.5443</td>\n",
       "      <td>-122.172</td>\n",
       "      <td>2290</td>\n",
       "      <td>7984</td>\n",
       "    </tr>\n",
       "    <tr>\n",
       "      <th>20053</th>\n",
       "      <td>8648900110</td>\n",
       "      <td>2014-05-05</td>\n",
       "      <td>555000.0</td>\n",
       "      <td>3</td>\n",
       "      <td>2.50</td>\n",
       "      <td>1940</td>\n",
       "      <td>3211</td>\n",
       "      <td>2.0</td>\n",
       "      <td>no</td>\n",
       "      <td>bad</td>\n",
       "      <td>regular</td>\n",
       "      <td>average design</td>\n",
       "      <td>1940</td>\n",
       "      <td>0</td>\n",
       "      <td>2009</td>\n",
       "      <td>0</td>\n",
       "      <td>98027</td>\n",
       "      <td>47.5644</td>\n",
       "      <td>-122.093</td>\n",
       "      <td>1880</td>\n",
       "      <td>3078</td>\n",
       "    </tr>\n",
       "    <tr>\n",
       "      <th>20054</th>\n",
       "      <td>8648900110</td>\n",
       "      <td>2014-08-26</td>\n",
       "      <td>555000.0</td>\n",
       "      <td>3</td>\n",
       "      <td>2.50</td>\n",
       "      <td>1940</td>\n",
       "      <td>3211</td>\n",
       "      <td>2.0</td>\n",
       "      <td>no</td>\n",
       "      <td>bad</td>\n",
       "      <td>regular</td>\n",
       "      <td>average design</td>\n",
       "      <td>1940</td>\n",
       "      <td>0</td>\n",
       "      <td>2009</td>\n",
       "      <td>0</td>\n",
       "      <td>98027</td>\n",
       "      <td>47.5644</td>\n",
       "      <td>-122.093</td>\n",
       "      <td>1880</td>\n",
       "      <td>3078</td>\n",
       "    </tr>\n",
       "  </tbody>\n",
       "</table>\n",
       "</div>"
      ],
      "text/plain": [
       "               id       date     price  bedrooms  bathrooms  sqft_living  sqft_lot  floors waterfront  view condition           grade  sqft_above  sqft_basement  yr_built  yr_renovated  zipcode      lat     long  sqft_living15  sqft_lot15\n",
       "3950   1825069031 2014-08-14  550000.0         4       1.75         2410      8447     2.0         no  good      good  average design        2060            350      1936          1980    98074  47.6499 -122.088           2520       14789\n",
       "3951   1825069031 2014-10-16  550000.0         4       1.75         2410      8447     2.0         no  good      good  average design        2060            350      1936          1980    98074  47.6499 -122.088           2520       14789\n",
       "14982  6308000010 2014-12-08  585000.0         3       2.50         2290      5089     2.0         no   bad   regular  average design        2290              0      2001             0    98006  47.5443 -122.172           2290        7984\n",
       "14983  6308000010 2015-04-23  585000.0         3       2.50         2290      5089     2.0         no   bad   regular  average design        2290              0      2001             0    98006  47.5443 -122.172           2290        7984\n",
       "20053  8648900110 2014-05-05  555000.0         3       2.50         1940      3211     2.0         no   bad   regular  average design        1940              0      2009             0    98027  47.5644 -122.093           1880        3078\n",
       "20054  8648900110 2014-08-26  555000.0         3       2.50         1940      3211     2.0         no   bad   regular  average design        1940              0      2009             0    98027  47.5644 -122.093           1880        3078"
      ]
     },
     "metadata": {},
     "output_type": "display_data"
    }
   ],
   "source": [
    "# There are 353 rows with duplicate ID's in our dataset\n",
    "\n",
    "# On a first observation, it's possible to verify that the same 'id' has different prices. \n",
    "# Let's check if we have duplicate 'id' with the same 'price'\n",
    "\n",
    "display(df[df[['id', 'price']].duplicated(keep= False)])"
   ]
  },
  {
   "cell_type": "code",
   "execution_count": 74,
   "id": "f69e17a4",
   "metadata": {
    "ExecuteTime": {
     "end_time": "2021-10-06T19:46:22.482316Z",
     "start_time": "2021-10-06T19:46:22.453102Z"
    }
   },
   "outputs": [],
   "source": [
    "# There are 6 registers with same 'id' and 'price'.\n",
    "# For duplicate 'id' with same price we'll keep the first row.\n",
    "df = df.drop_duplicates(subset= ['id', 'price'], keep= 'first')\n",
    "\n",
    "# For the rest of duplicate values, we'll keep the last register since it's price is more current\n",
    "df = df.drop_duplicates(subset= ['id'], keep= 'last')"
   ]
  },
  {
   "cell_type": "code",
   "execution_count": 75,
   "id": "ac065c20",
   "metadata": {
    "ExecuteTime": {
     "end_time": "2021-10-06T19:46:22.498307Z",
     "start_time": "2021-10-06T19:46:22.484314Z"
    }
   },
   "outputs": [
    {
     "data": {
      "text/html": [
       "<div>\n",
       "<style scoped>\n",
       "    .dataframe tbody tr th:only-of-type {\n",
       "        vertical-align: middle;\n",
       "    }\n",
       "\n",
       "    .dataframe tbody tr th {\n",
       "        vertical-align: top;\n",
       "    }\n",
       "\n",
       "    .dataframe thead th {\n",
       "        text-align: right;\n",
       "    }\n",
       "</style>\n",
       "<table border=\"1\" class=\"dataframe\">\n",
       "  <thead>\n",
       "    <tr style=\"text-align: right;\">\n",
       "      <th></th>\n",
       "      <th>id</th>\n",
       "      <th>date</th>\n",
       "      <th>price</th>\n",
       "      <th>bedrooms</th>\n",
       "      <th>bathrooms</th>\n",
       "      <th>sqft_living</th>\n",
       "      <th>sqft_lot</th>\n",
       "      <th>floors</th>\n",
       "      <th>waterfront</th>\n",
       "      <th>view</th>\n",
       "      <th>condition</th>\n",
       "      <th>grade</th>\n",
       "      <th>sqft_above</th>\n",
       "      <th>sqft_basement</th>\n",
       "      <th>yr_built</th>\n",
       "      <th>yr_renovated</th>\n",
       "      <th>zipcode</th>\n",
       "      <th>lat</th>\n",
       "      <th>long</th>\n",
       "      <th>sqft_living15</th>\n",
       "      <th>sqft_lot15</th>\n",
       "    </tr>\n",
       "  </thead>\n",
       "  <tbody>\n",
       "  </tbody>\n",
       "</table>\n",
       "</div>"
      ],
      "text/plain": [
       "Empty DataFrame\n",
       "Columns: [id, date, price, bedrooms, bathrooms, sqft_living, sqft_lot, floors, waterfront, view, condition, grade, sqft_above, sqft_basement, yr_built, yr_renovated, zipcode, lat, long, sqft_living15, sqft_lot15]\n",
       "Index: []"
      ]
     },
     "metadata": {},
     "output_type": "display_data"
    }
   ],
   "source": [
    "# No more duplicate values\n",
    "display(df[df['id'].duplicated(keep= False)])"
   ]
  },
  {
   "cell_type": "markdown",
   "id": "44e5a999",
   "metadata": {},
   "source": [
    "### 1.5. Checking Outliers"
   ]
  },
  {
   "cell_type": "markdown",
   "id": "8b9a5dae",
   "metadata": {},
   "source": [
    "#### 1.5.1. Bedrooms outliers"
   ]
  },
  {
   "cell_type": "code",
   "execution_count": 76,
   "id": "d5935d45",
   "metadata": {
    "ExecuteTime": {
     "end_time": "2021-10-06T19:46:23.320768Z",
     "start_time": "2021-10-06T19:46:22.500306Z"
    }
   },
   "outputs": [
    {
     "data": {
      "text/plain": [
       "Text(0, 0.5, 'sqft_living')"
      ]
     },
     "execution_count": 76,
     "metadata": {},
     "output_type": "execute_result"
    },
    {
     "data": {
      "image/png": "[encoded data removed]",
      "text/plain": [
       "<Figure size 1800x864 with 2 Axes>"
      ]
     },
     "metadata": {},
     "output_type": "display_data"
    }
   ],
   "source": [
    "plt.subplot(2,1,1)\n",
    "sns.boxplot( x='bedrooms', y='price', data=df )\n",
    "\n",
    "plt.subplot(2,1,2)\n",
    "plt.scatter(df['bedrooms'], df['sqft_living'])\n",
    "plt.title(\"N° of bedrooms x sqft_living\")\n",
    "plt.xlabel(\"bedrooms\")\n",
    "plt.ylabel(\"sqft_living\")"
   ]
  },
  {
   "cell_type": "code",
   "execution_count": 77,
   "id": "ae7c34f8",
   "metadata": {
    "ExecuteTime": {
     "end_time": "2021-10-06T19:46:23.351748Z",
     "start_time": "2021-10-06T19:46:23.322768Z"
    }
   },
   "outputs": [
    {
     "name": "stdout",
     "output_type": "stream",
     "text": [
      "correction for 11 bedrooms: 3.8605437915048237\n",
      "correction for 33 bedrooms: 3.143379808167705\n"
     ]
    },
    {
     "name": "stderr",
     "output_type": "stream",
     "text": [
      "c:\\users\\mario\\anaconda3\\envs\\house_rocket\\lib\\site-packages\\pandas\\core\\indexing.py:1732: SettingWithCopyWarning: \n",
      "A value is trying to be set on a copy of a slice from a DataFrame\n",
      "\n",
      "See the caveats in the documentation: https://pandas.pydata.org/pandas-docs/stable/user_guide/indexing.html#returning-a-view-versus-a-copy\n",
      "  self._setitem_single_block(indexer, value, name)\n"
     ]
    }
   ],
   "source": [
    "# As we can see, properties with more than 10 bedrooms have a small price and also a small sqft_living, \n",
    "# which does not make much sense. That way, we'll assume that properties with more than 10 bedrooms are outliers,\n",
    "# probably due typing error.\n",
    "# Their adjusted bedroom number will be based on the mean of other properties with simmilar square foot living.\n",
    "\n",
    "# 11 bedrooms\n",
    "sqft_11 = df['sqft_living'].loc[df['bedrooms']==11].reset_index(drop= True)[0]\n",
    "proportion11 = sqft_11*0.3\n",
    "\n",
    "correction11=df['bedrooms'].loc[(df['sqft_living'] > sqft_11-proportion11) & (df['sqft_living'] < sqft_11+proportion11)].mean()\n",
    "print('correction for 11 bedrooms: {}'.format( correction11 ) )\n",
    "\n",
    "#so we'll change our bedroom number from 11 to 4\n",
    "df['bedrooms'].loc[df['bedrooms']==11] = 4\n",
    "\n",
    "\n",
    "\n",
    "# 33 bedrooms\n",
    "sqft_33 = df['sqft_living'].loc[df['bedrooms']==33].reset_index(drop= True)[0]\n",
    "proportion33 = sqft_33*0.3\n",
    "\n",
    "correction33=df['bedrooms'].loc[(df['sqft_living'] > sqft_33-proportion33) & (df['sqft_living'] < sqft_33+proportion33)].mean()\n",
    "print('correction for 33 bedrooms: {}'.format( correction33 ) )\n",
    "\n",
    "#so we'll change our bedroom number from 33 to 3\n",
    "df['bedrooms'].loc[df['bedrooms']==33] = 3"
   ]
  },
  {
   "cell_type": "code",
   "execution_count": 78,
   "id": "061e4b17",
   "metadata": {
    "ExecuteTime": {
     "end_time": "2021-10-06T19:46:24.089846Z",
     "start_time": "2021-10-06T19:46:23.353747Z"
    },
    "scrolled": false
   },
   "outputs": [
    {
     "data": {
      "text/plain": [
       "Text(0, 0.5, 'sqft_living')"
      ]
     },
     "execution_count": 78,
     "metadata": {},
     "output_type": "execute_result"
    },
    {
     "data": {
      "image/png": "[encoded data removed]",
      "text/plain": [
       "<Figure size 1800x864 with 2 Axes>"
      ]
     },
     "metadata": {},
     "output_type": "display_data"
    }
   ],
   "source": [
    "plt.subplot(2,1,1)\n",
    "sns.boxplot( x='bedrooms', y='price', data=df )\n",
    "\n",
    "plt.subplot(2,1,2)\n",
    "plt.scatter(df['bedrooms'], df['sqft_living'])\n",
    "plt.title(\"N° of bedrooms x sqft_living\")\n",
    "plt.xlabel(\"bedrooms\")\n",
    "plt.ylabel(\"sqft_living\")"
   ]
  },
  {
   "cell_type": "markdown",
   "id": "5d8a569e",
   "metadata": {},
   "source": [
    "#### 1.5.2. sqft_lot outliers"
   ]
  },
  {
   "cell_type": "code",
   "execution_count": 79,
   "id": "e026ae57",
   "metadata": {
    "ExecuteTime": {
     "end_time": "2021-10-06T19:46:24.407080Z",
     "start_time": "2021-10-06T19:46:24.091845Z"
    }
   },
   "outputs": [
    {
     "data": {
      "image/png": "[encoded data removed]",
      "text/plain": [
       "<Figure size 1800x864 with 1 Axes>"
      ]
     },
     "metadata": {},
     "output_type": "display_data"
    }
   ],
   "source": [
    "# Looking for outliers by comparing sqft_lot and price\n",
    "\n",
    "plt.scatter(df['sqft_lot'], df['price'])\n",
    "plt.title(\"sqft_lot x price\")\n",
    "plt.xlabel(\"sqft_lot\")\n",
    "plt.ylabel(\"price\")\n",
    "plt.show()"
   ]
  },
  {
   "cell_type": "code",
   "execution_count": 80,
   "id": "5a3603d5",
   "metadata": {
    "ExecuteTime": {
     "end_time": "2021-10-06T19:46:24.439058Z",
     "start_time": "2021-10-06T19:46:24.408078Z"
    },
    "scrolled": true
   },
   "outputs": [
    {
     "data": {
      "text/html": [
       "<div>\n",
       "<style scoped>\n",
       "    .dataframe tbody tr th:only-of-type {\n",
       "        vertical-align: middle;\n",
       "    }\n",
       "\n",
       "    .dataframe tbody tr th {\n",
       "        vertical-align: top;\n",
       "    }\n",
       "\n",
       "    .dataframe thead th {\n",
       "        text-align: right;\n",
       "    }\n",
       "</style>\n",
       "<table border=\"1\" class=\"dataframe\">\n",
       "  <thead>\n",
       "    <tr style=\"text-align: right;\">\n",
       "      <th></th>\n",
       "      <th>id</th>\n",
       "      <th>date</th>\n",
       "      <th>price</th>\n",
       "      <th>bedrooms</th>\n",
       "      <th>bathrooms</th>\n",
       "      <th>sqft_living</th>\n",
       "      <th>sqft_lot</th>\n",
       "      <th>floors</th>\n",
       "      <th>waterfront</th>\n",
       "      <th>view</th>\n",
       "      <th>condition</th>\n",
       "      <th>grade</th>\n",
       "      <th>sqft_above</th>\n",
       "      <th>sqft_basement</th>\n",
       "      <th>yr_built</th>\n",
       "      <th>yr_renovated</th>\n",
       "      <th>zipcode</th>\n",
       "      <th>lat</th>\n",
       "      <th>long</th>\n",
       "      <th>sqft_living15</th>\n",
       "      <th>sqft_lot15</th>\n",
       "    </tr>\n",
       "  </thead>\n",
       "  <tbody>\n",
       "    <tr>\n",
       "      <th>1719</th>\n",
       "      <td>1020069017</td>\n",
       "      <td>2015-03-27</td>\n",
       "      <td>700000.0</td>\n",
       "      <td>4</td>\n",
       "      <td>1.00</td>\n",
       "      <td>1300</td>\n",
       "      <td>1651359</td>\n",
       "      <td>1.0</td>\n",
       "      <td>no</td>\n",
       "      <td>good</td>\n",
       "      <td>good</td>\n",
       "      <td>average design</td>\n",
       "      <td>1300</td>\n",
       "      <td>0</td>\n",
       "      <td>1920</td>\n",
       "      <td>0</td>\n",
       "      <td>98022</td>\n",
       "      <td>47.2313</td>\n",
       "      <td>-122.023</td>\n",
       "      <td>2560</td>\n",
       "      <td>425581</td>\n",
       "    </tr>\n",
       "    <tr>\n",
       "      <th>3949</th>\n",
       "      <td>722069232</td>\n",
       "      <td>2014-09-05</td>\n",
       "      <td>998000.0</td>\n",
       "      <td>4</td>\n",
       "      <td>3.25</td>\n",
       "      <td>3770</td>\n",
       "      <td>982998</td>\n",
       "      <td>2.0</td>\n",
       "      <td>no</td>\n",
       "      <td>bad</td>\n",
       "      <td>regular</td>\n",
       "      <td>average design</td>\n",
       "      <td>3770</td>\n",
       "      <td>0</td>\n",
       "      <td>1992</td>\n",
       "      <td>0</td>\n",
       "      <td>98058</td>\n",
       "      <td>47.4140</td>\n",
       "      <td>-122.087</td>\n",
       "      <td>2290</td>\n",
       "      <td>37141</td>\n",
       "    </tr>\n",
       "    <tr>\n",
       "      <th>4441</th>\n",
       "      <td>3626079040</td>\n",
       "      <td>2014-07-30</td>\n",
       "      <td>790000.0</td>\n",
       "      <td>2</td>\n",
       "      <td>3.00</td>\n",
       "      <td>2560</td>\n",
       "      <td>982278</td>\n",
       "      <td>1.0</td>\n",
       "      <td>no</td>\n",
       "      <td>bad</td>\n",
       "      <td>regular</td>\n",
       "      <td>average design</td>\n",
       "      <td>2560</td>\n",
       "      <td>0</td>\n",
       "      <td>2004</td>\n",
       "      <td>0</td>\n",
       "      <td>98014</td>\n",
       "      <td>47.6955</td>\n",
       "      <td>-121.861</td>\n",
       "      <td>1620</td>\n",
       "      <td>40946</td>\n",
       "    </tr>\n",
       "    <tr>\n",
       "      <th>4540</th>\n",
       "      <td>2522029039</td>\n",
       "      <td>2014-09-29</td>\n",
       "      <td>550000.0</td>\n",
       "      <td>3</td>\n",
       "      <td>2.00</td>\n",
       "      <td>3650</td>\n",
       "      <td>843309</td>\n",
       "      <td>2.0</td>\n",
       "      <td>no</td>\n",
       "      <td>bad</td>\n",
       "      <td>good</td>\n",
       "      <td>average design</td>\n",
       "      <td>3650</td>\n",
       "      <td>0</td>\n",
       "      <td>1991</td>\n",
       "      <td>0</td>\n",
       "      <td>98070</td>\n",
       "      <td>47.3627</td>\n",
       "      <td>-122.496</td>\n",
       "      <td>1870</td>\n",
       "      <td>273992</td>\n",
       "    </tr>\n",
       "    <tr>\n",
       "      <th>6691</th>\n",
       "      <td>2624089007</td>\n",
       "      <td>2015-03-20</td>\n",
       "      <td>1998000.0</td>\n",
       "      <td>2</td>\n",
       "      <td>2.50</td>\n",
       "      <td>3900</td>\n",
       "      <td>920423</td>\n",
       "      <td>2.0</td>\n",
       "      <td>no</td>\n",
       "      <td>bad</td>\n",
       "      <td>regular</td>\n",
       "      <td>high design</td>\n",
       "      <td>3900</td>\n",
       "      <td>0</td>\n",
       "      <td>2009</td>\n",
       "      <td>0</td>\n",
       "      <td>98065</td>\n",
       "      <td>47.5371</td>\n",
       "      <td>-121.756</td>\n",
       "      <td>2720</td>\n",
       "      <td>411962</td>\n",
       "    </tr>\n",
       "  </tbody>\n",
       "</table>\n",
       "</div>"
      ],
      "text/plain": [
       "              id       date      price  bedrooms  bathrooms  sqft_living  sqft_lot  floors waterfront  view condition           grade  sqft_above  sqft_basement  yr_built  yr_renovated  zipcode      lat     long  sqft_living15  sqft_lot15\n",
       "1719  1020069017 2015-03-27   700000.0         4       1.00         1300   1651359     1.0         no  good      good  average design        1300              0      1920             0    98022  47.2313 -122.023           2560      425581\n",
       "3949   722069232 2014-09-05   998000.0         4       3.25         3770    982998     2.0         no   bad   regular  average design        3770              0      1992             0    98058  47.4140 -122.087           2290       37141\n",
       "4441  3626079040 2014-07-30   790000.0         2       3.00         2560    982278     1.0         no   bad   regular  average design        2560              0      2004             0    98014  47.6955 -121.861           1620       40946\n",
       "4540  2522029039 2014-09-29   550000.0         3       2.00         3650    843309     2.0         no   bad      good  average design        3650              0      1991             0    98070  47.3627 -122.496           1870      273992\n",
       "6691  2624089007 2015-03-20  1998000.0         2       2.50         3900    920423     2.0         no   bad   regular     high design        3900              0      2009             0    98065  47.5371 -121.756           2720      411962"
      ]
     },
     "execution_count": 80,
     "metadata": {},
     "output_type": "execute_result"
    }
   ],
   "source": [
    "# We can verify some possible outliers for sqft_lot bigger than 750.000\n",
    "# A few points have a price near from 2 million, so we'll keep those on our analysis\n",
    "# Let's check those few points sqft_lot size and consider outliers the ones above\n",
    "\n",
    "sqft_outliers=df[df['sqft_lot']>750000]\n",
    "\n",
    "sqft_outliers.head()"
   ]
  },
  {
   "cell_type": "code",
   "execution_count": 81,
   "id": "e4141939",
   "metadata": {
    "ExecuteTime": {
     "end_time": "2021-10-06T19:46:24.754391Z",
     "start_time": "2021-10-06T19:46:24.441057Z"
    }
   },
   "outputs": [
    {
     "name": "stdout",
     "output_type": "stream",
     "text": [
      "mean price of sqft_outliers: 679250.0\n",
      "corrected sqft_lot for sqft_outliers: 17132\n"
     ]
    },
    {
     "data": {
      "image/png": "[encoded data removed]",
      "text/plain": [
       "<Figure size 1800x864 with 1 Axes>"
      ]
     },
     "metadata": {},
     "output_type": "display_data"
    }
   ],
   "source": [
    "# Assuming that properties with sqft_lot bigger than 950.000 are outliers\n",
    "sqft_outliers=df[df['sqft_lot']>950000]\n",
    "\n",
    "# Let's verify their mean price and adjust the sqft_lot based on the rest of the dataset\n",
    "sqft_out_mean_price = sqft_outliers['price'].mean()\n",
    "print('mean price of sqft_outliers: {}'.format(sqft_out_mean_price))\n",
    "\n",
    "# Calculate a proportion to filter dataset base\n",
    "proportion = sqft_out_mean_price*0.1\n",
    "correction_sqft=df[['price','sqft_lot']].loc[(df['price']>sqft_out_mean_price-proportion) & (df['price']<sqft_out_mean_price+proportion)]\n",
    "correction_sqft=correction_sqft['sqft_lot'].mean()\n",
    "print('corrected sqft_lot for sqft_outliers: {}'.format(int(correction_sqft)))\n",
    "\n",
    "# Adjusting outliers\n",
    "df.loc[df['sqft_lot']>950000,'sqft_lot']=correction_sqft\n",
    "\n",
    "\n",
    "plt.scatter(df['sqft_lot'], df['price'])\n",
    "plt.title(\"sqft_lot x price\")\n",
    "plt.xlabel(\"sqft_lot\")\n",
    "plt.ylabel(\"price\")\n",
    "plt.show()"
   ]
  },
  {
   "cell_type": "markdown",
   "id": "62d57c8a",
   "metadata": {},
   "source": [
    "# 2.0. EDA - Exploratory Data Analysis"
   ]
  },
  {
   "cell_type": "markdown",
   "id": "ca32a753",
   "metadata": {},
   "source": [
    "### 2.1. Descriptive Statistical"
   ]
  },
  {
   "cell_type": "code",
   "execution_count": 82,
   "id": "9302600c",
   "metadata": {
    "ExecuteTime": {
     "end_time": "2021-10-06T19:46:24.802336Z",
     "start_time": "2021-10-06T19:46:24.756390Z"
    }
   },
   "outputs": [
    {
     "data": {
      "text/html": [
       "<div>\n",
       "<style scoped>\n",
       "    .dataframe tbody tr th:only-of-type {\n",
       "        vertical-align: middle;\n",
       "    }\n",
       "\n",
       "    .dataframe tbody tr th {\n",
       "        vertical-align: top;\n",
       "    }\n",
       "\n",
       "    .dataframe thead th {\n",
       "        text-align: right;\n",
       "    }\n",
       "</style>\n",
       "<table border=\"1\" class=\"dataframe\">\n",
       "  <thead>\n",
       "    <tr style=\"text-align: right;\">\n",
       "      <th></th>\n",
       "      <th>attributes</th>\n",
       "      <th>maximum</th>\n",
       "      <th>minimum</th>\n",
       "      <th>mean</th>\n",
       "      <th>median</th>\n",
       "      <th>std</th>\n",
       "    </tr>\n",
       "  </thead>\n",
       "  <tbody>\n",
       "    <tr>\n",
       "      <th>0</th>\n",
       "      <td>price</td>\n",
       "      <td>7700000.0</td>\n",
       "      <td>75000.0</td>\n",
       "      <td>541649.962726</td>\n",
       "      <td>450000.00</td>\n",
       "      <td>367306.361583</td>\n",
       "    </tr>\n",
       "    <tr>\n",
       "      <th>1</th>\n",
       "      <td>bedrooms</td>\n",
       "      <td>10.0</td>\n",
       "      <td>0.0</td>\n",
       "      <td>3.369845</td>\n",
       "      <td>3.00</td>\n",
       "      <td>0.905393</td>\n",
       "    </tr>\n",
       "    <tr>\n",
       "      <th>2</th>\n",
       "      <td>bathrooms</td>\n",
       "      <td>8.0</td>\n",
       "      <td>0.0</td>\n",
       "      <td>2.117349</td>\n",
       "      <td>2.25</td>\n",
       "      <td>0.769895</td>\n",
       "    </tr>\n",
       "    <tr>\n",
       "      <th>3</th>\n",
       "      <td>sqft_living</td>\n",
       "      <td>13540.0</td>\n",
       "      <td>290.0</td>\n",
       "      <td>2082.704936</td>\n",
       "      <td>1920.00</td>\n",
       "      <td>919.125029</td>\n",
       "    </tr>\n",
       "    <tr>\n",
       "      <th>4</th>\n",
       "      <td>sqft_lot</td>\n",
       "      <td>920423.0</td>\n",
       "      <td>520.0</td>\n",
       "      <td>14819.491045</td>\n",
       "      <td>7614.00</td>\n",
       "      <td>36763.790341</td>\n",
       "    </tr>\n",
       "    <tr>\n",
       "      <th>5</th>\n",
       "      <td>floors</td>\n",
       "      <td>3.5</td>\n",
       "      <td>1.0</td>\n",
       "      <td>1.496198</td>\n",
       "      <td>1.50</td>\n",
       "      <td>0.540376</td>\n",
       "    </tr>\n",
       "    <tr>\n",
       "      <th>6</th>\n",
       "      <td>sqft_above</td>\n",
       "      <td>9410.0</td>\n",
       "      <td>290.0</td>\n",
       "      <td>1790.960440</td>\n",
       "      <td>1560.00</td>\n",
       "      <td>829.007154</td>\n",
       "    </tr>\n",
       "    <tr>\n",
       "      <th>7</th>\n",
       "      <td>sqft_basement</td>\n",
       "      <td>4820.0</td>\n",
       "      <td>0.0</td>\n",
       "      <td>291.744495</td>\n",
       "      <td>0.00</td>\n",
       "      <td>442.771655</td>\n",
       "    </tr>\n",
       "    <tr>\n",
       "      <th>8</th>\n",
       "      <td>yr_built</td>\n",
       "      <td>2015.0</td>\n",
       "      <td>1900.0</td>\n",
       "      <td>1971.098433</td>\n",
       "      <td>1975.00</td>\n",
       "      <td>29.384591</td>\n",
       "    </tr>\n",
       "    <tr>\n",
       "      <th>9</th>\n",
       "      <td>yr_renovated</td>\n",
       "      <td>2015.0</td>\n",
       "      <td>0.0</td>\n",
       "      <td>84.729800</td>\n",
       "      <td>0.00</td>\n",
       "      <td>402.421625</td>\n",
       "    </tr>\n",
       "    <tr>\n",
       "      <th>10</th>\n",
       "      <td>sqft_living15</td>\n",
       "      <td>6210.0</td>\n",
       "      <td>399.0</td>\n",
       "      <td>1988.314378</td>\n",
       "      <td>1840.00</td>\n",
       "      <td>685.683099</td>\n",
       "    </tr>\n",
       "    <tr>\n",
       "      <th>11</th>\n",
       "      <td>sqft_lot15</td>\n",
       "      <td>871200.0</td>\n",
       "      <td>651.0</td>\n",
       "      <td>12785.961280</td>\n",
       "      <td>7620.00</td>\n",
       "      <td>27374.828923</td>\n",
       "    </tr>\n",
       "  </tbody>\n",
       "</table>\n",
       "</div>"
      ],
      "text/plain": [
       "       attributes    maximum  minimum           mean     median            std\n",
       "0           price  7700000.0  75000.0  541649.962726  450000.00  367306.361583\n",
       "1        bedrooms       10.0      0.0       3.369845       3.00       0.905393\n",
       "2       bathrooms        8.0      0.0       2.117349       2.25       0.769895\n",
       "3     sqft_living    13540.0    290.0    2082.704936    1920.00     919.125029\n",
       "4        sqft_lot   920423.0    520.0   14819.491045    7614.00   36763.790341\n",
       "5          floors        3.5      1.0       1.496198       1.50       0.540376\n",
       "6      sqft_above     9410.0    290.0    1790.960440    1560.00     829.007154\n",
       "7   sqft_basement     4820.0      0.0     291.744495       0.00     442.771655\n",
       "8        yr_built     2015.0   1900.0    1971.098433    1975.00      29.384591\n",
       "9    yr_renovated     2015.0      0.0      84.729800       0.00     402.421625\n",
       "10  sqft_living15     6210.0    399.0    1988.314378    1840.00     685.683099\n",
       "11     sqft_lot15   871200.0    651.0   12785.961280    7620.00   27374.828923"
      ]
     },
     "execution_count": 82,
     "metadata": {},
     "output_type": "execute_result"
    }
   ],
   "source": [
    "num_attibutes = df.select_dtypes( include= ['int64','float64'])\n",
    "num_attibutes = num_attibutes.iloc[:, 1: ]\n",
    "num_attibutes = num_attibutes.drop(columns=['zipcode', 'lat','long'])\n",
    "\n",
    "# central tendency : mean and median\n",
    "mean = pd.DataFrame(num_attibutes.apply(np.mean, axis=0))\n",
    "median = pd.DataFrame(num_attibutes.apply(np.median, axis=0))\n",
    "\n",
    "# dispersion tendency: std, min and max\n",
    "std = pd.DataFrame(num_attibutes.apply(np.std, axis=0))\n",
    "min_ = pd.DataFrame(num_attibutes.apply(np.min, axis=0))\n",
    "max_ = pd.DataFrame(num_attibutes.apply(np.max, axis=0))\n",
    "\n",
    "att = pd.concat((max_, min_, mean, median,std), axis=1).reset_index()\n",
    "att.columns = ('attributes','maximum','minimum','mean', 'median','std')\n",
    "att"
   ]
  },
  {
   "cell_type": "markdown",
   "id": "42217255",
   "metadata": {},
   "source": [
    "### 2.2. Hypothesis  validation"
   ]
  },
  {
   "cell_type": "markdown",
   "id": "01a49770",
   "metadata": {},
   "source": [
    "#### H1 - Properties with a good condition and waterfront view are 50% more expensive on average than properties with good condition but without waterfront view"
   ]
  },
  {
   "cell_type": "code",
   "execution_count": 83,
   "id": "47ecd3c0",
   "metadata": {
    "ExecuteTime": {
     "end_time": "2021-10-06T19:46:24.833321Z",
     "start_time": "2021-10-06T19:46:24.804335Z"
    }
   },
   "outputs": [
    {
     "name": "stdout",
     "output_type": "stream",
     "text": [
      "Mean price of properties with good condition and waterfront view: US$ 1537098.46\n",
      "Mean price of properties with good condition but without waterfront view: US$ 533490.33\n",
      "Properties with good condition and waterfront view are 188.12% more expensive on average\n"
     ]
    }
   ],
   "source": [
    "# Filtering our dataset\n",
    "good_cond_waterfront = round(df['price'].loc[(df['waterfront'] == 'yes') & (df['condition'] == 'good')].mean(), 2)\n",
    "good_cond_no_waterfront = round(df['price'].loc[(df['waterfront'] == 'no') & (df['condition'] == 'good')].mean(), 2)\n",
    "\n",
    "print('Mean price of properties with good condition and waterfront view: US$ {}'.format(good_cond_waterfront))\n",
    "print('Mean price of properties with good condition but without waterfront view: US$ {}'.format(good_cond_no_waterfront))\n",
    "\n",
    "# Calculating proportion between than\n",
    "proportion = round((good_cond_waterfront - good_cond_no_waterfront )*100 / good_cond_no_waterfront, 2)\n",
    "\n",
    "print('Properties with good condition and waterfront view are {}% more expensive on average'.format(proportion) )"
   ]
  },
  {
   "cell_type": "markdown",
   "id": "bcbb3027",
   "metadata": {},
   "source": [
    "#### H2 -  Properties with building year before 1955 are cheaper on average"
   ]
  },
  {
   "cell_type": "code",
   "execution_count": 84,
   "id": "78c1fed7",
   "metadata": {
    "ExecuteTime": {
     "end_time": "2021-10-06T19:46:24.849307Z",
     "start_time": "2021-10-06T19:46:24.835316Z"
    }
   },
   "outputs": [
    {
     "name": "stdout",
     "output_type": "stream",
     "text": [
      "Mean price of properties built before 1955: US$ 540100.38\n",
      "Mean price of properties built after 1955: US$ 542265.19\n",
      "Properties built before 1955 are US$ 0.4% cheaper on average\n"
     ]
    }
   ],
   "source": [
    "# Separating dataset \n",
    "df_h2_less = df.loc[df['yr_built']<1955]\n",
    "df_h2_more = df.loc[df['yr_built']>=1955]\n",
    "\n",
    "# Creating variables\n",
    "before_1955 = df_h2_less['price'].mean()\n",
    "after_1955 = df_h2_more['price'].mean()\n",
    "\n",
    "print('Mean price of properties built before 1955: US$ {}'.format(round(before_1955,2)))\n",
    "print('Mean price of properties built after 1955: US$ {}'.format(round(after_1955,2)))\n",
    "\n",
    "# Calculating proportion between than\n",
    "proportion2 = round((before_1955 - after_1955) * 100 / after_1955,2)\n",
    "print('Properties built before 1955 are US$ {}% cheaper on average'.format(proportion2*-1))"
   ]
  },
  {
   "cell_type": "markdown",
   "id": "8e7d3f66",
   "metadata": {},
   "source": [
    "#### H3 - Properties without basement have a square footage of the land space 15% bigger than properties with it"
   ]
  },
  {
   "cell_type": "code",
   "execution_count": 85,
   "id": "bf698e3e",
   "metadata": {
    "ExecuteTime": {
     "end_time": "2021-10-06T19:46:24.865297Z",
     "start_time": "2021-10-06T19:46:24.851306Z"
    }
   },
   "outputs": [
    {
     "name": "stdout",
     "output_type": "stream",
     "text": [
      "Average square footage of lands without basement: 15886.45\n",
      "Average square footage of lands with basement: 13170.46\n",
      "Properties without basement have an average square footage of the land 20.62% bigger than with basement\n"
     ]
    }
   ],
   "source": [
    "# Creating variables\n",
    "sqft_no_basement=round(df['sqft_lot'].loc[df['sqft_basement']==0].mean(),2)\n",
    "sqft_yes_basement=round(df['sqft_lot'].loc[df['sqft_basement']!=0].mean(),2)\n",
    "\n",
    "print('Average square footage of lands without basement: {}'.format(sqft_no_basement))\n",
    "print('Average square footage of lands with basement: {}'.format(sqft_yes_basement))\n",
    "\n",
    "# Calculating proportion between than\n",
    "proportion3 = round(((sqft_no_basement - sqft_yes_basement) * 100 / sqft_yes_basement),2)\n",
    "print('Properties without basement have an average square footage of the land {}% bigger than with basement'.format(proportion3))"
   ]
  },
  {
   "cell_type": "markdown",
   "id": "2b9e10aa",
   "metadata": {},
   "source": [
    "#### H4 - The propertie's price growth YoY (year over year) it's 10%"
   ]
  },
  {
   "cell_type": "code",
   "execution_count": 86,
   "id": "a2089d8e",
   "metadata": {
    "ExecuteTime": {
     "end_time": "2021-10-06T19:46:24.881287Z",
     "start_time": "2021-10-06T19:46:24.867295Z"
    }
   },
   "outputs": [
    {
     "name": "stdout",
     "output_type": "stream",
     "text": [
      "Average price on 2014: 541337.59\n",
      "Average price on 2015: 542298.14\n",
      "The propertie's price growth YoY it's: 0.18%\n"
     ]
    }
   ],
   "source": [
    "# Creating column year\n",
    "df['year'] = pd.DatetimeIndex(df['date']).year\n",
    "\n",
    "# Analysing years separated\n",
    "price_2014 = round(df['price'].loc[df['year']==2014].mean(),2)\n",
    "price_2015 = round(df['price'].loc[df['year']==2015].mean(),2)\n",
    "\n",
    "print('Average price on 2014: {}'.format(price_2014))\n",
    "print('Average price on 2015: {}'.format(price_2015))\n",
    "\n",
    "proportion4 = round(((price_2015 - price_2014) * 100 / price_2014),2)\n",
    "print(\"The propertie's price growth YoY it's: {}%\".format(proportion4))"
   ]
  },
  {
   "cell_type": "markdown",
   "id": "70ea8600",
   "metadata": {},
   "source": [
    "#### H5 - Properties with 3 bathrooms had a MoM growth of 5%"
   ]
  },
  {
   "cell_type": "code",
   "execution_count": 87,
   "id": "1c586651",
   "metadata": {
    "ExecuteTime": {
     "end_time": "2021-10-06T19:46:24.912426Z",
     "start_time": "2021-10-06T19:46:24.883286Z"
    }
   },
   "outputs": [
    {
     "name": "stdout",
     "output_type": "stream",
     "text": [
      "There was a monthly decrease of: -9.87%\n"
     ]
    }
   ],
   "source": [
    "# Filtering dataset by bathrooms = 3\n",
    "df['month'] = pd.DatetimeIndex(df['date']).month\n",
    "df_h5 = df[['price','month','year']].loc[df['bathrooms']==3].reset_index(drop=True)\n",
    "\n",
    "# First month is 05/2014 and last month is 05/2015\n",
    "# Number of months: 12\n",
    "# Obtaining total price for first month and last month\n",
    "first_month = df_h5['price'].loc[(df_h5['year']==2014) & (df_h5['month']==5)].sum()\n",
    "last_month = df_h5['price'].loc[(df_h5['year']==2015) & (df_h5['month']==5)].sum()\n",
    "\n",
    "# Calculating CMGR:\n",
    "cmgr = round((((last_month/first_month) ** (1/12))-1)*100,2)\n",
    "cmgr\n",
    "\n",
    "print('There was a monthly decrease of: {}%'.format(cmgr))"
   ]
  },
  {
   "cell_type": "markdown",
   "id": "3ce3d043",
   "metadata": {},
   "source": [
    "#### H6 - Properties with 2 or more floors are 40% more expensive on average than the others "
   ]
  },
  {
   "cell_type": "code",
   "execution_count": 88,
   "id": "bde2cee6",
   "metadata": {
    "ExecuteTime": {
     "end_time": "2021-10-06T19:46:24.927733Z",
     "start_time": "2021-10-06T19:46:24.914423Z"
    }
   },
   "outputs": [
    {
     "name": "stdout",
     "output_type": "stream",
     "text": [
      "On average, properties with 2 or more floors are 41.25% more expensive\n"
     ]
    }
   ],
   "source": [
    "# Separating by floors bigger than 2\n",
    "multiple_floors = round(df['price'].loc[df['floors']>=2].mean(),2)\n",
    "single_floor = round(df['price'].loc[df['floors']<2].mean(),2)\n",
    "\n",
    "\n",
    "proportion6 = round((multiple_floors - single_floor) * 100 / single_floor,2)\n",
    "\n",
    "print('On average, properties with 2 or more floors are {}% more expensive'.format(proportion6))"
   ]
  },
  {
   "cell_type": "markdown",
   "id": "c2ceadfc",
   "metadata": {},
   "source": [
    "### 2.3. Answering Business Questions"
   ]
  },
  {
   "cell_type": "markdown",
   "id": "583022ab",
   "metadata": {},
   "source": [
    " #### Q1 - What are the properties that house rocket should buy, and for what price?"
   ]
  },
  {
   "cell_type": "code",
   "execution_count": 89,
   "id": "3e15131c",
   "metadata": {
    "ExecuteTime": {
     "end_time": "2021-10-06T19:46:24.958910Z",
     "start_time": "2021-10-06T19:46:24.935923Z"
    }
   },
   "outputs": [
    {
     "data": {
      "text/html": [
       "<div>\n",
       "<style scoped>\n",
       "    .dataframe tbody tr th:only-of-type {\n",
       "        vertical-align: middle;\n",
       "    }\n",
       "\n",
       "    .dataframe tbody tr th {\n",
       "        vertical-align: top;\n",
       "    }\n",
       "\n",
       "    .dataframe thead th {\n",
       "        text-align: right;\n",
       "    }\n",
       "</style>\n",
       "<table border=\"1\" class=\"dataframe\">\n",
       "  <thead>\n",
       "    <tr style=\"text-align: right;\">\n",
       "      <th></th>\n",
       "      <th>zipcode</th>\n",
       "      <th>median price</th>\n",
       "    </tr>\n",
       "  </thead>\n",
       "  <tbody>\n",
       "    <tr>\n",
       "      <th>0</th>\n",
       "      <td>98001</td>\n",
       "      <td>260000.0</td>\n",
       "    </tr>\n",
       "    <tr>\n",
       "      <th>1</th>\n",
       "      <td>98002</td>\n",
       "      <td>235000.0</td>\n",
       "    </tr>\n",
       "    <tr>\n",
       "      <th>2</th>\n",
       "      <td>98003</td>\n",
       "      <td>269500.0</td>\n",
       "    </tr>\n",
       "    <tr>\n",
       "      <th>3</th>\n",
       "      <td>98004</td>\n",
       "      <td>1150000.0</td>\n",
       "    </tr>\n",
       "    <tr>\n",
       "      <th>4</th>\n",
       "      <td>98005</td>\n",
       "      <td>765475.0</td>\n",
       "    </tr>\n",
       "  </tbody>\n",
       "</table>\n",
       "</div>"
      ],
      "text/plain": [
       "   zipcode  median price\n",
       "0    98001      260000.0\n",
       "1    98002      235000.0\n",
       "2    98003      269500.0\n",
       "3    98004     1150000.0\n",
       "4    98005      765475.0"
      ]
     },
     "execution_count": 89,
     "metadata": {},
     "output_type": "execute_result"
    }
   ],
   "source": [
    "# First, let's group our dataset by zipcode\n",
    "df_zipcode = df[['zipcode','price']].groupby(['zipcode']).median().reset_index()\n",
    "df_zipcode.rename(columns={'price':'median price'},inplace=True)\n",
    "df_zipcode.head()"
   ]
  },
  {
   "cell_type": "code",
   "execution_count": 90,
   "id": "56366242",
   "metadata": {
    "ExecuteTime": {
     "end_time": "2021-10-06T19:46:24.990307Z",
     "start_time": "2021-10-06T19:46:24.960909Z"
    }
   },
   "outputs": [],
   "source": [
    "# Merging the two datasets by column zipcode, adding a new column named median price on our original dataframe\n",
    "df_buylist=pd.merge(df,df_zipcode,on='zipcode',how='inner')"
   ]
  },
  {
   "cell_type": "code",
   "execution_count": 91,
   "id": "6a5f2ba5",
   "metadata": {
    "ExecuteTime": {
     "end_time": "2021-10-06T19:46:38.160216Z",
     "start_time": "2021-10-06T19:46:24.992279Z"
    }
   },
   "outputs": [
    {
     "data": {
      "text/html": [
       "<div>\n",
       "<style scoped>\n",
       "    .dataframe tbody tr th:only-of-type {\n",
       "        vertical-align: middle;\n",
       "    }\n",
       "\n",
       "    .dataframe tbody tr th {\n",
       "        vertical-align: top;\n",
       "    }\n",
       "\n",
       "    .dataframe thead th {\n",
       "        text-align: right;\n",
       "    }\n",
       "</style>\n",
       "<table border=\"1\" class=\"dataframe\">\n",
       "  <thead>\n",
       "    <tr style=\"text-align: right;\">\n",
       "      <th></th>\n",
       "      <th>index</th>\n",
       "      <th>id</th>\n",
       "      <th>date</th>\n",
       "      <th>price</th>\n",
       "      <th>bedrooms</th>\n",
       "      <th>bathrooms</th>\n",
       "      <th>sqft_living</th>\n",
       "      <th>sqft_lot</th>\n",
       "      <th>floors</th>\n",
       "      <th>waterfront</th>\n",
       "      <th>view</th>\n",
       "      <th>condition</th>\n",
       "      <th>grade</th>\n",
       "      <th>sqft_above</th>\n",
       "      <th>sqft_basement</th>\n",
       "      <th>yr_built</th>\n",
       "      <th>yr_renovated</th>\n",
       "      <th>zipcode</th>\n",
       "      <th>lat</th>\n",
       "      <th>long</th>\n",
       "      <th>sqft_living15</th>\n",
       "      <th>sqft_lot15</th>\n",
       "      <th>year</th>\n",
       "      <th>month</th>\n",
       "      <th>median price</th>\n",
       "      <th>status</th>\n",
       "    </tr>\n",
       "  </thead>\n",
       "  <tbody>\n",
       "    <tr>\n",
       "      <th>0</th>\n",
       "      <td>0</td>\n",
       "      <td>7129300520</td>\n",
       "      <td>2014-10-13</td>\n",
       "      <td>221900.0</td>\n",
       "      <td>3</td>\n",
       "      <td>1.00</td>\n",
       "      <td>1180</td>\n",
       "      <td>5650.0</td>\n",
       "      <td>1.0</td>\n",
       "      <td>no</td>\n",
       "      <td>bad</td>\n",
       "      <td>regular</td>\n",
       "      <td>average design</td>\n",
       "      <td>1180</td>\n",
       "      <td>0</td>\n",
       "      <td>1955</td>\n",
       "      <td>0</td>\n",
       "      <td>98178</td>\n",
       "      <td>47.5112</td>\n",
       "      <td>-122.257</td>\n",
       "      <td>1340</td>\n",
       "      <td>5650</td>\n",
       "      <td>2014</td>\n",
       "      <td>10</td>\n",
       "      <td>279500.0</td>\n",
       "      <td>buy</td>\n",
       "    </tr>\n",
       "    <tr>\n",
       "      <th>1</th>\n",
       "      <td>1</td>\n",
       "      <td>4060000240</td>\n",
       "      <td>2014-06-23</td>\n",
       "      <td>205425.0</td>\n",
       "      <td>2</td>\n",
       "      <td>1.00</td>\n",
       "      <td>880</td>\n",
       "      <td>6780.0</td>\n",
       "      <td>1.0</td>\n",
       "      <td>no</td>\n",
       "      <td>bad</td>\n",
       "      <td>good</td>\n",
       "      <td>average design</td>\n",
       "      <td>880</td>\n",
       "      <td>0</td>\n",
       "      <td>1945</td>\n",
       "      <td>0</td>\n",
       "      <td>98178</td>\n",
       "      <td>47.5009</td>\n",
       "      <td>-122.248</td>\n",
       "      <td>1190</td>\n",
       "      <td>6780</td>\n",
       "      <td>2014</td>\n",
       "      <td>6</td>\n",
       "      <td>279500.0</td>\n",
       "      <td>buy</td>\n",
       "    </tr>\n",
       "    <tr>\n",
       "      <th>2</th>\n",
       "      <td>3</td>\n",
       "      <td>2976800796</td>\n",
       "      <td>2014-09-25</td>\n",
       "      <td>236000.0</td>\n",
       "      <td>3</td>\n",
       "      <td>1.00</td>\n",
       "      <td>1300</td>\n",
       "      <td>5898.0</td>\n",
       "      <td>1.0</td>\n",
       "      <td>no</td>\n",
       "      <td>bad</td>\n",
       "      <td>regular</td>\n",
       "      <td>average design</td>\n",
       "      <td>1300</td>\n",
       "      <td>0</td>\n",
       "      <td>1961</td>\n",
       "      <td>0</td>\n",
       "      <td>98178</td>\n",
       "      <td>47.5053</td>\n",
       "      <td>-122.255</td>\n",
       "      <td>1320</td>\n",
       "      <td>7619</td>\n",
       "      <td>2014</td>\n",
       "      <td>9</td>\n",
       "      <td>279500.0</td>\n",
       "      <td>buy</td>\n",
       "    </tr>\n",
       "    <tr>\n",
       "      <th>3</th>\n",
       "      <td>4</td>\n",
       "      <td>6874200960</td>\n",
       "      <td>2015-02-27</td>\n",
       "      <td>170000.0</td>\n",
       "      <td>2</td>\n",
       "      <td>1.00</td>\n",
       "      <td>860</td>\n",
       "      <td>5265.0</td>\n",
       "      <td>1.0</td>\n",
       "      <td>no</td>\n",
       "      <td>bad</td>\n",
       "      <td>regular</td>\n",
       "      <td>average design</td>\n",
       "      <td>860</td>\n",
       "      <td>0</td>\n",
       "      <td>1931</td>\n",
       "      <td>0</td>\n",
       "      <td>98178</td>\n",
       "      <td>47.5048</td>\n",
       "      <td>-122.272</td>\n",
       "      <td>1650</td>\n",
       "      <td>8775</td>\n",
       "      <td>2015</td>\n",
       "      <td>2</td>\n",
       "      <td>279500.0</td>\n",
       "      <td>buy</td>\n",
       "    </tr>\n",
       "    <tr>\n",
       "      <th>4</th>\n",
       "      <td>5</td>\n",
       "      <td>4268200055</td>\n",
       "      <td>2015-05-01</td>\n",
       "      <td>245000.0</td>\n",
       "      <td>3</td>\n",
       "      <td>1.75</td>\n",
       "      <td>1740</td>\n",
       "      <td>11547.0</td>\n",
       "      <td>1.0</td>\n",
       "      <td>no</td>\n",
       "      <td>bad</td>\n",
       "      <td>regular</td>\n",
       "      <td>average design</td>\n",
       "      <td>1740</td>\n",
       "      <td>0</td>\n",
       "      <td>1954</td>\n",
       "      <td>0</td>\n",
       "      <td>98178</td>\n",
       "      <td>47.4945</td>\n",
       "      <td>-122.220</td>\n",
       "      <td>880</td>\n",
       "      <td>78408</td>\n",
       "      <td>2015</td>\n",
       "      <td>5</td>\n",
       "      <td>279500.0</td>\n",
       "      <td>buy</td>\n",
       "    </tr>\n",
       "  </tbody>\n",
       "</table>\n",
       "</div>"
      ],
      "text/plain": [
       "   index          id       date     price  bedrooms  bathrooms  sqft_living  sqft_lot  floors waterfront view condition           grade  sqft_above  sqft_basement  yr_built  yr_renovated  zipcode      lat     long  sqft_living15  sqft_lot15  year  month  median price status\n",
       "0      0  7129300520 2014-10-13  221900.0         3       1.00         1180    5650.0     1.0         no  bad   regular  average design        1180              0      1955             0    98178  47.5112 -122.257           1340        5650  2014     10      279500.0    buy\n",
       "1      1  4060000240 2014-06-23  205425.0         2       1.00          880    6780.0     1.0         no  bad      good  average design         880              0      1945             0    98178  47.5009 -122.248           1190        6780  2014      6      279500.0    buy\n",
       "2      3  2976800796 2014-09-25  236000.0         3       1.00         1300    5898.0     1.0         no  bad   regular  average design        1300              0      1961             0    98178  47.5053 -122.255           1320        7619  2014      9      279500.0    buy\n",
       "3      4  6874200960 2015-02-27  170000.0         2       1.00          860    5265.0     1.0         no  bad   regular  average design         860              0      1931             0    98178  47.5048 -122.272           1650        8775  2015      2      279500.0    buy\n",
       "4      5  4268200055 2015-05-01  245000.0         3       1.75         1740   11547.0     1.0         no  bad   regular  average design        1740              0      1954             0    98178  47.4945 -122.220            880       78408  2015      5      279500.0    buy"
      ]
     },
     "execution_count": 91,
     "metadata": {},
     "output_type": "execute_result"
    }
   ],
   "source": [
    "# Creating a new column called 'Status', where we'll see if we should or shouldn't buy the property.\n",
    "df_buylist['status']='NaN'\n",
    "\n",
    "# First we'll sellect only properties with price less than median price and with regular/good condition\n",
    "for row in range(len(df_buylist)):\n",
    "    if (df_buylist.loc[row,'price']<df_buylist.loc[row,'median price'])&(df_buylist.loc[row,'condition']!='bad'):\n",
    "        df_buylist.loc[row,'status']='buy'\n",
    "    else:\n",
    "        df_buylist.loc[row,'status']='not buy'\n",
    "\n",
    "# Selecting only the properties to buy\n",
    "df_buylist=df_buylist[df_buylist['status']=='buy'].reset_index()\n",
    "df_buylist.head()"
   ]
  },
  {
   "cell_type": "code",
   "execution_count": 92,
   "id": "1faf2a00",
   "metadata": {
    "ExecuteTime": {
     "end_time": "2021-10-06T19:46:42.352954Z",
     "start_time": "2021-10-06T19:46:38.162212Z"
    }
   },
   "outputs": [],
   "source": [
    "# Exporting table with recomended properties to buy\n",
    "df_buylist = df_buylist[['id','date', 'zipcode', 'condition','grade', 'price', 'median price', 'status']]\n",
    "df_buylist.to_excel('properties_buy_list.xlsx')"
   ]
  },
  {
   "cell_type": "markdown",
   "id": "a93d6373",
   "metadata": {},
   "source": [
    "#### Q2 - Once purchased, when it's the best time to sell it and for what price?"
   ]
  },
  {
   "cell_type": "code",
   "execution_count": 93,
   "id": "14cf96b1",
   "metadata": {
    "ExecuteTime": {
     "end_time": "2021-10-06T19:46:42.383939Z",
     "start_time": "2021-10-06T19:46:42.354957Z"
    }
   },
   "outputs": [
    {
     "data": {
      "text/html": [
       "<div>\n",
       "<style scoped>\n",
       "    .dataframe tbody tr th:only-of-type {\n",
       "        vertical-align: middle;\n",
       "    }\n",
       "\n",
       "    .dataframe tbody tr th {\n",
       "        vertical-align: top;\n",
       "    }\n",
       "\n",
       "    .dataframe thead th {\n",
       "        text-align: right;\n",
       "    }\n",
       "</style>\n",
       "<table border=\"1\" class=\"dataframe\">\n",
       "  <thead>\n",
       "    <tr style=\"text-align: right;\">\n",
       "      <th></th>\n",
       "      <th>id</th>\n",
       "      <th>date</th>\n",
       "      <th>zipcode</th>\n",
       "      <th>condition</th>\n",
       "      <th>grade</th>\n",
       "      <th>price</th>\n",
       "      <th>median price</th>\n",
       "      <th>status</th>\n",
       "      <th>season</th>\n",
       "    </tr>\n",
       "  </thead>\n",
       "  <tbody>\n",
       "    <tr>\n",
       "      <th>0</th>\n",
       "      <td>7129300520</td>\n",
       "      <td>2014-10-13</td>\n",
       "      <td>98178</td>\n",
       "      <td>regular</td>\n",
       "      <td>average design</td>\n",
       "      <td>221900.0</td>\n",
       "      <td>279500.0</td>\n",
       "      <td>buy</td>\n",
       "      <td>autumn</td>\n",
       "    </tr>\n",
       "    <tr>\n",
       "      <th>1</th>\n",
       "      <td>4060000240</td>\n",
       "      <td>2014-06-23</td>\n",
       "      <td>98178</td>\n",
       "      <td>good</td>\n",
       "      <td>average design</td>\n",
       "      <td>205425.0</td>\n",
       "      <td>279500.0</td>\n",
       "      <td>buy</td>\n",
       "      <td>summer</td>\n",
       "    </tr>\n",
       "    <tr>\n",
       "      <th>2</th>\n",
       "      <td>2976800796</td>\n",
       "      <td>2014-09-25</td>\n",
       "      <td>98178</td>\n",
       "      <td>regular</td>\n",
       "      <td>average design</td>\n",
       "      <td>236000.0</td>\n",
       "      <td>279500.0</td>\n",
       "      <td>buy</td>\n",
       "      <td>autumn</td>\n",
       "    </tr>\n",
       "    <tr>\n",
       "      <th>3</th>\n",
       "      <td>6874200960</td>\n",
       "      <td>2015-02-27</td>\n",
       "      <td>98178</td>\n",
       "      <td>regular</td>\n",
       "      <td>average design</td>\n",
       "      <td>170000.0</td>\n",
       "      <td>279500.0</td>\n",
       "      <td>buy</td>\n",
       "      <td>autumn</td>\n",
       "    </tr>\n",
       "    <tr>\n",
       "      <th>4</th>\n",
       "      <td>4268200055</td>\n",
       "      <td>2015-05-01</td>\n",
       "      <td>98178</td>\n",
       "      <td>regular</td>\n",
       "      <td>average design</td>\n",
       "      <td>245000.0</td>\n",
       "      <td>279500.0</td>\n",
       "      <td>buy</td>\n",
       "      <td>spring</td>\n",
       "    </tr>\n",
       "    <tr>\n",
       "      <th>5</th>\n",
       "      <td>3969300030</td>\n",
       "      <td>2014-12-29</td>\n",
       "      <td>98178</td>\n",
       "      <td>regular</td>\n",
       "      <td>average design</td>\n",
       "      <td>239900.0</td>\n",
       "      <td>279500.0</td>\n",
       "      <td>buy</td>\n",
       "      <td>autumn</td>\n",
       "    </tr>\n",
       "    <tr>\n",
       "      <th>6</th>\n",
       "      <td>1180003090</td>\n",
       "      <td>2014-09-06</td>\n",
       "      <td>98178</td>\n",
       "      <td>regular</td>\n",
       "      <td>average design</td>\n",
       "      <td>190000.0</td>\n",
       "      <td>279500.0</td>\n",
       "      <td>buy</td>\n",
       "      <td>autumn</td>\n",
       "    </tr>\n",
       "    <tr>\n",
       "      <th>7</th>\n",
       "      <td>561000075</td>\n",
       "      <td>2014-12-31</td>\n",
       "      <td>98178</td>\n",
       "      <td>good</td>\n",
       "      <td>average design</td>\n",
       "      <td>260000.0</td>\n",
       "      <td>279500.0</td>\n",
       "      <td>buy</td>\n",
       "      <td>autumn</td>\n",
       "    </tr>\n",
       "    <tr>\n",
       "      <th>8</th>\n",
       "      <td>3348401740</td>\n",
       "      <td>2015-01-27</td>\n",
       "      <td>98178</td>\n",
       "      <td>regular</td>\n",
       "      <td>average design</td>\n",
       "      <td>188000.0</td>\n",
       "      <td>279500.0</td>\n",
       "      <td>buy</td>\n",
       "      <td>autumn</td>\n",
       "    </tr>\n",
       "    <tr>\n",
       "      <th>9</th>\n",
       "      <td>5476200160</td>\n",
       "      <td>2014-07-25</td>\n",
       "      <td>98178</td>\n",
       "      <td>regular</td>\n",
       "      <td>average design</td>\n",
       "      <td>164808.0</td>\n",
       "      <td>279500.0</td>\n",
       "      <td>buy</td>\n",
       "      <td>summer</td>\n",
       "    </tr>\n",
       "  </tbody>\n",
       "</table>\n",
       "</div>"
      ],
      "text/plain": [
       "           id       date  zipcode condition           grade     price  median price status  season\n",
       "0  7129300520 2014-10-13    98178   regular  average design  221900.0      279500.0    buy  autumn\n",
       "1  4060000240 2014-06-23    98178      good  average design  205425.0      279500.0    buy  summer\n",
       "2  2976800796 2014-09-25    98178   regular  average design  236000.0      279500.0    buy  autumn\n",
       "3  6874200960 2015-02-27    98178   regular  average design  170000.0      279500.0    buy  autumn\n",
       "4  4268200055 2015-05-01    98178   regular  average design  245000.0      279500.0    buy  spring\n",
       "5  3969300030 2014-12-29    98178   regular  average design  239900.0      279500.0    buy  autumn\n",
       "6  1180003090 2014-09-06    98178   regular  average design  190000.0      279500.0    buy  autumn\n",
       "7   561000075 2014-12-31    98178      good  average design  260000.0      279500.0    buy  autumn\n",
       "8  3348401740 2015-01-27    98178   regular  average design  188000.0      279500.0    buy  autumn\n",
       "9  5476200160 2014-07-25    98178   regular  average design  164808.0      279500.0    buy  summer"
      ]
     },
     "execution_count": 93,
     "metadata": {},
     "output_type": "execute_result"
    }
   ],
   "source": [
    "# Usually the end of spring and beggining of summer is the best period to sell properties\n",
    "# We'll consider than summer season is the best period to sell properties\n",
    "\n",
    "# winter (01/dec to 28/feb)\n",
    "# spring (01/mar to 31/may)\n",
    "# summer (01/jun to 31/aug)\n",
    "# Autumn (01/sep to 30/nov)\n",
    "\n",
    "# Setting up a new column 'season' based on our purchase day (date)\n",
    "df_sell_list = df_buylist.copy()\n",
    "df_sell_list['season'] = pd.DatetimeIndex(df_sell_list['date']).month\n",
    "df_sell_list['season'] = df_sell_list['season'].apply (lambda x:\n",
    "                                                       'winter' if (x >= 12) & (x < 3) else\n",
    "                                                       'spring' if (x >= 3) & (x < 6) else\n",
    "                                                       'summer' if (x >= 6) & (x < 9) else\n",
    "                                                       'autumn')\n",
    "df_sell_list.head(10)\n"
   ]
  },
  {
   "cell_type": "code",
   "execution_count": 94,
   "id": "dc8370f4",
   "metadata": {
    "ExecuteTime": {
     "end_time": "2021-10-06T19:46:46.237856Z",
     "start_time": "2021-10-06T19:46:42.384947Z"
    }
   },
   "outputs": [
    {
     "data": {
      "text/html": [
       "<div>\n",
       "<style scoped>\n",
       "    .dataframe tbody tr th:only-of-type {\n",
       "        vertical-align: middle;\n",
       "    }\n",
       "\n",
       "    .dataframe tbody tr th {\n",
       "        vertical-align: top;\n",
       "    }\n",
       "\n",
       "    .dataframe thead th {\n",
       "        text-align: right;\n",
       "    }\n",
       "</style>\n",
       "<table border=\"1\" class=\"dataframe\">\n",
       "  <thead>\n",
       "    <tr style=\"text-align: right;\">\n",
       "      <th></th>\n",
       "      <th>id</th>\n",
       "      <th>date</th>\n",
       "      <th>zipcode</th>\n",
       "      <th>condition</th>\n",
       "      <th>grade</th>\n",
       "      <th>price</th>\n",
       "      <th>median price</th>\n",
       "      <th>status</th>\n",
       "      <th>season</th>\n",
       "      <th>sell price</th>\n",
       "    </tr>\n",
       "  </thead>\n",
       "  <tbody>\n",
       "    <tr>\n",
       "      <th>0</th>\n",
       "      <td>7129300520</td>\n",
       "      <td>2014-10-13</td>\n",
       "      <td>98178</td>\n",
       "      <td>regular</td>\n",
       "      <td>average design</td>\n",
       "      <td>221900.0</td>\n",
       "      <td>279500.0</td>\n",
       "      <td>buy</td>\n",
       "      <td>autumn</td>\n",
       "      <td>288470.0</td>\n",
       "    </tr>\n",
       "    <tr>\n",
       "      <th>1</th>\n",
       "      <td>4060000240</td>\n",
       "      <td>2014-06-23</td>\n",
       "      <td>98178</td>\n",
       "      <td>good</td>\n",
       "      <td>average design</td>\n",
       "      <td>205425.0</td>\n",
       "      <td>279500.0</td>\n",
       "      <td>buy</td>\n",
       "      <td>summer</td>\n",
       "      <td>267052.5</td>\n",
       "    </tr>\n",
       "    <tr>\n",
       "      <th>2</th>\n",
       "      <td>2976800796</td>\n",
       "      <td>2014-09-25</td>\n",
       "      <td>98178</td>\n",
       "      <td>regular</td>\n",
       "      <td>average design</td>\n",
       "      <td>236000.0</td>\n",
       "      <td>279500.0</td>\n",
       "      <td>buy</td>\n",
       "      <td>autumn</td>\n",
       "      <td>306800.0</td>\n",
       "    </tr>\n",
       "    <tr>\n",
       "      <th>3</th>\n",
       "      <td>6874200960</td>\n",
       "      <td>2015-02-27</td>\n",
       "      <td>98178</td>\n",
       "      <td>regular</td>\n",
       "      <td>average design</td>\n",
       "      <td>170000.0</td>\n",
       "      <td>279500.0</td>\n",
       "      <td>buy</td>\n",
       "      <td>autumn</td>\n",
       "      <td>221000.0</td>\n",
       "    </tr>\n",
       "    <tr>\n",
       "      <th>4</th>\n",
       "      <td>4268200055</td>\n",
       "      <td>2015-05-01</td>\n",
       "      <td>98178</td>\n",
       "      <td>regular</td>\n",
       "      <td>average design</td>\n",
       "      <td>245000.0</td>\n",
       "      <td>279500.0</td>\n",
       "      <td>buy</td>\n",
       "      <td>spring</td>\n",
       "      <td>269500.0</td>\n",
       "    </tr>\n",
       "    <tr>\n",
       "      <th>5</th>\n",
       "      <td>3969300030</td>\n",
       "      <td>2014-12-29</td>\n",
       "      <td>98178</td>\n",
       "      <td>regular</td>\n",
       "      <td>average design</td>\n",
       "      <td>239900.0</td>\n",
       "      <td>279500.0</td>\n",
       "      <td>buy</td>\n",
       "      <td>autumn</td>\n",
       "      <td>311870.0</td>\n",
       "    </tr>\n",
       "    <tr>\n",
       "      <th>6</th>\n",
       "      <td>1180003090</td>\n",
       "      <td>2014-09-06</td>\n",
       "      <td>98178</td>\n",
       "      <td>regular</td>\n",
       "      <td>average design</td>\n",
       "      <td>190000.0</td>\n",
       "      <td>279500.0</td>\n",
       "      <td>buy</td>\n",
       "      <td>autumn</td>\n",
       "      <td>247000.0</td>\n",
       "    </tr>\n",
       "    <tr>\n",
       "      <th>7</th>\n",
       "      <td>561000075</td>\n",
       "      <td>2014-12-31</td>\n",
       "      <td>98178</td>\n",
       "      <td>good</td>\n",
       "      <td>average design</td>\n",
       "      <td>260000.0</td>\n",
       "      <td>279500.0</td>\n",
       "      <td>buy</td>\n",
       "      <td>autumn</td>\n",
       "      <td>338000.0</td>\n",
       "    </tr>\n",
       "    <tr>\n",
       "      <th>8</th>\n",
       "      <td>3348401740</td>\n",
       "      <td>2015-01-27</td>\n",
       "      <td>98178</td>\n",
       "      <td>regular</td>\n",
       "      <td>average design</td>\n",
       "      <td>188000.0</td>\n",
       "      <td>279500.0</td>\n",
       "      <td>buy</td>\n",
       "      <td>autumn</td>\n",
       "      <td>244400.0</td>\n",
       "    </tr>\n",
       "    <tr>\n",
       "      <th>9</th>\n",
       "      <td>5476200160</td>\n",
       "      <td>2014-07-25</td>\n",
       "      <td>98178</td>\n",
       "      <td>regular</td>\n",
       "      <td>average design</td>\n",
       "      <td>164808.0</td>\n",
       "      <td>279500.0</td>\n",
       "      <td>buy</td>\n",
       "      <td>summer</td>\n",
       "      <td>214250.4</td>\n",
       "    </tr>\n",
       "  </tbody>\n",
       "</table>\n",
       "</div>"
      ],
      "text/plain": [
       "           id       date  zipcode condition           grade     price  median price status  season  sell price\n",
       "0  7129300520 2014-10-13    98178   regular  average design  221900.0      279500.0    buy  autumn    288470.0\n",
       "1  4060000240 2014-06-23    98178      good  average design  205425.0      279500.0    buy  summer    267052.5\n",
       "2  2976800796 2014-09-25    98178   regular  average design  236000.0      279500.0    buy  autumn    306800.0\n",
       "3  6874200960 2015-02-27    98178   regular  average design  170000.0      279500.0    buy  autumn    221000.0\n",
       "4  4268200055 2015-05-01    98178   regular  average design  245000.0      279500.0    buy  spring    269500.0\n",
       "5  3969300030 2014-12-29    98178   regular  average design  239900.0      279500.0    buy  autumn    311870.0\n",
       "6  1180003090 2014-09-06    98178   regular  average design  190000.0      279500.0    buy  autumn    247000.0\n",
       "7   561000075 2014-12-31    98178      good  average design  260000.0      279500.0    buy  autumn    338000.0\n",
       "8  3348401740 2015-01-27    98178   regular  average design  188000.0      279500.0    buy  autumn    244400.0\n",
       "9  5476200160 2014-07-25    98178   regular  average design  164808.0      279500.0    buy  summer    214250.4"
      ]
     },
     "execution_count": 94,
     "metadata": {},
     "output_type": "execute_result"
    }
   ],
   "source": [
    "# Considering spring as the best season, properties that were bought on spring season we'll be sell with +10% of its price\n",
    "# and propeties bought on other season with +30% of its price\n",
    "\n",
    "for i in range(len(df_sell_list)):\n",
    "    if df_sell_list.loc[i,'season']=='spring':\n",
    "        df_sell_list.loc[i,'sell price']=df_sell_list.loc[i,'price']*1.1\n",
    "    else:\n",
    "        df_sell_list.loc[i,'sell price']=df_sell_list.loc[i,'price']*1.3\n",
    "\n",
    "df_sell_list.head(10)"
   ]
  },
  {
   "cell_type": "code",
   "execution_count": 95,
   "id": "b8e55728",
   "metadata": {
    "ExecuteTime": {
     "end_time": "2021-10-06T19:46:46.268836Z",
     "start_time": "2021-10-06T19:46:46.239855Z"
    },
    "code_folding": [],
    "scrolled": true
   },
   "outputs": [
    {
     "data": {
      "text/html": [
       "<div>\n",
       "<style scoped>\n",
       "    .dataframe tbody tr th:only-of-type {\n",
       "        vertical-align: middle;\n",
       "    }\n",
       "\n",
       "    .dataframe tbody tr th {\n",
       "        vertical-align: top;\n",
       "    }\n",
       "\n",
       "    .dataframe thead th {\n",
       "        text-align: right;\n",
       "    }\n",
       "</style>\n",
       "<table border=\"1\" class=\"dataframe\">\n",
       "  <thead>\n",
       "    <tr style=\"text-align: right;\">\n",
       "      <th></th>\n",
       "      <th>id</th>\n",
       "      <th>date</th>\n",
       "      <th>zipcode</th>\n",
       "      <th>condition</th>\n",
       "      <th>grade</th>\n",
       "      <th>price</th>\n",
       "      <th>median price</th>\n",
       "      <th>status</th>\n",
       "      <th>season</th>\n",
       "      <th>sell price</th>\n",
       "      <th>profit</th>\n",
       "    </tr>\n",
       "  </thead>\n",
       "  <tbody>\n",
       "    <tr>\n",
       "      <th>0</th>\n",
       "      <td>6447300225</td>\n",
       "      <td>2014-11-06</td>\n",
       "      <td>98039</td>\n",
       "      <td>good</td>\n",
       "      <td>average design</td>\n",
       "      <td>1880000.0</td>\n",
       "      <td>1905000.0</td>\n",
       "      <td>buy</td>\n",
       "      <td>autumn</td>\n",
       "      <td>2444000.0</td>\n",
       "      <td>564000.0</td>\n",
       "    </tr>\n",
       "    <tr>\n",
       "      <th>1</th>\n",
       "      <td>3262300818</td>\n",
       "      <td>2015-02-27</td>\n",
       "      <td>98039</td>\n",
       "      <td>regular</td>\n",
       "      <td>high design</td>\n",
       "      <td>1865000.0</td>\n",
       "      <td>1905000.0</td>\n",
       "      <td>buy</td>\n",
       "      <td>autumn</td>\n",
       "      <td>2424500.0</td>\n",
       "      <td>559500.0</td>\n",
       "    </tr>\n",
       "    <tr>\n",
       "      <th>2</th>\n",
       "      <td>2525049266</td>\n",
       "      <td>2014-08-21</td>\n",
       "      <td>98039</td>\n",
       "      <td>regular</td>\n",
       "      <td>average design</td>\n",
       "      <td>1762000.0</td>\n",
       "      <td>1905000.0</td>\n",
       "      <td>buy</td>\n",
       "      <td>summer</td>\n",
       "      <td>2290600.0</td>\n",
       "      <td>528600.0</td>\n",
       "    </tr>\n",
       "    <tr>\n",
       "      <th>3</th>\n",
       "      <td>3262300235</td>\n",
       "      <td>2014-11-26</td>\n",
       "      <td>98039</td>\n",
       "      <td>good</td>\n",
       "      <td>average design</td>\n",
       "      <td>1555000.0</td>\n",
       "      <td>1905000.0</td>\n",
       "      <td>buy</td>\n",
       "      <td>autumn</td>\n",
       "      <td>2021500.0</td>\n",
       "      <td>466500.0</td>\n",
       "    </tr>\n",
       "    <tr>\n",
       "      <th>4</th>\n",
       "      <td>2525049246</td>\n",
       "      <td>2014-10-17</td>\n",
       "      <td>98039</td>\n",
       "      <td>good</td>\n",
       "      <td>average design</td>\n",
       "      <td>1550000.0</td>\n",
       "      <td>1905000.0</td>\n",
       "      <td>buy</td>\n",
       "      <td>autumn</td>\n",
       "      <td>2015000.0</td>\n",
       "      <td>465000.0</td>\n",
       "    </tr>\n",
       "    <tr>\n",
       "      <th>5</th>\n",
       "      <td>3025300225</td>\n",
       "      <td>2014-10-31</td>\n",
       "      <td>98039</td>\n",
       "      <td>good</td>\n",
       "      <td>average design</td>\n",
       "      <td>1450000.0</td>\n",
       "      <td>1905000.0</td>\n",
       "      <td>buy</td>\n",
       "      <td>autumn</td>\n",
       "      <td>1885000.0</td>\n",
       "      <td>435000.0</td>\n",
       "    </tr>\n",
       "    <tr>\n",
       "      <th>6</th>\n",
       "      <td>5427100150</td>\n",
       "      <td>2014-06-26</td>\n",
       "      <td>98039</td>\n",
       "      <td>regular</td>\n",
       "      <td>average design</td>\n",
       "      <td>1410000.0</td>\n",
       "      <td>1905000.0</td>\n",
       "      <td>buy</td>\n",
       "      <td>summer</td>\n",
       "      <td>1833000.0</td>\n",
       "      <td>423000.0</td>\n",
       "    </tr>\n",
       "    <tr>\n",
       "      <th>7</th>\n",
       "      <td>3625049079</td>\n",
       "      <td>2014-08-01</td>\n",
       "      <td>98039</td>\n",
       "      <td>regular</td>\n",
       "      <td>average design</td>\n",
       "      <td>1350000.0</td>\n",
       "      <td>1905000.0</td>\n",
       "      <td>buy</td>\n",
       "      <td>summer</td>\n",
       "      <td>1755000.0</td>\n",
       "      <td>405000.0</td>\n",
       "    </tr>\n",
       "    <tr>\n",
       "      <th>8</th>\n",
       "      <td>3262301355</td>\n",
       "      <td>2014-07-25</td>\n",
       "      <td>98039</td>\n",
       "      <td>good</td>\n",
       "      <td>average design</td>\n",
       "      <td>1320000.0</td>\n",
       "      <td>1905000.0</td>\n",
       "      <td>buy</td>\n",
       "      <td>summer</td>\n",
       "      <td>1716000.0</td>\n",
       "      <td>396000.0</td>\n",
       "    </tr>\n",
       "    <tr>\n",
       "      <th>9</th>\n",
       "      <td>3835502815</td>\n",
       "      <td>2014-09-25</td>\n",
       "      <td>98039</td>\n",
       "      <td>regular</td>\n",
       "      <td>average design</td>\n",
       "      <td>1260000.0</td>\n",
       "      <td>1905000.0</td>\n",
       "      <td>buy</td>\n",
       "      <td>autumn</td>\n",
       "      <td>1638000.0</td>\n",
       "      <td>378000.0</td>\n",
       "    </tr>\n",
       "  </tbody>\n",
       "</table>\n",
       "</div>"
      ],
      "text/plain": [
       "           id       date  zipcode condition           grade      price  median price status  season  sell price    profit\n",
       "0  6447300225 2014-11-06    98039      good  average design  1880000.0     1905000.0    buy  autumn   2444000.0  564000.0\n",
       "1  3262300818 2015-02-27    98039   regular     high design  1865000.0     1905000.0    buy  autumn   2424500.0  559500.0\n",
       "2  2525049266 2014-08-21    98039   regular  average design  1762000.0     1905000.0    buy  summer   2290600.0  528600.0\n",
       "3  3262300235 2014-11-26    98039      good  average design  1555000.0     1905000.0    buy  autumn   2021500.0  466500.0\n",
       "4  2525049246 2014-10-17    98039      good  average design  1550000.0     1905000.0    buy  autumn   2015000.0  465000.0\n",
       "5  3025300225 2014-10-31    98039      good  average design  1450000.0     1905000.0    buy  autumn   1885000.0  435000.0\n",
       "6  5427100150 2014-06-26    98039   regular  average design  1410000.0     1905000.0    buy  summer   1833000.0  423000.0\n",
       "7  3625049079 2014-08-01    98039   regular  average design  1350000.0     1905000.0    buy  summer   1755000.0  405000.0\n",
       "8  3262301355 2014-07-25    98039      good  average design  1320000.0     1905000.0    buy  summer   1716000.0  396000.0\n",
       "9  3835502815 2014-09-25    98039   regular  average design  1260000.0     1905000.0    buy  autumn   1638000.0  378000.0"
      ]
     },
     "execution_count": 95,
     "metadata": {},
     "output_type": "execute_result"
    }
   ],
   "source": [
    "# Creating a profit column and priorizing properties to sell\n",
    "df_sell_list['profit'] = df_sell_list['sell price']-df_sell_list['price']\n",
    "df_sell_list = df_sell_list.sort_values('profit',ascending=False).reset_index(drop=True)\n",
    "df_sell_list.head(10)"
   ]
  },
  {
   "cell_type": "code",
   "execution_count": 96,
   "id": "7ebb17e6",
   "metadata": {
    "ExecuteTime": {
     "end_time": "2021-10-06T19:46:46.284827Z",
     "start_time": "2021-10-06T19:46:46.270834Z"
    }
   },
   "outputs": [
    {
     "name": "stdout",
     "output_type": "stream",
     "text": [
      "total profit: 991216453.6\n"
     ]
    }
   ],
   "source": [
    "# Calculating the total profit possible\n",
    "total_profit = round(df_sell_list['profit'].sum(),2)\n",
    "print('total profit: {}'.format(total_profit))"
   ]
  },
  {
   "cell_type": "code",
   "execution_count": 97,
   "id": "b6ee0f53",
   "metadata": {
    "ExecuteTime": {
     "end_time": "2021-10-06T19:46:51.545079Z",
     "start_time": "2021-10-06T19:46:46.286826Z"
    }
   },
   "outputs": [],
   "source": [
    "# Exporting table with properties to sell sorted by profit \n",
    "df_sell_list.to_excel('properties_sell_list.xlsx')"
   ]
  }
 ],
 "metadata": {
  "kernelspec": {
   "display_name": "Python 3 (ipykernel)",
   "language": "python",
   "name": "python3"
  },
  "language_info": {
   "codemirror_mode": {
    "name": "ipython",
    "version": 3
   },
   "file_extension": ".py",
   "mimetype": "text/x-python",
   "name": "python",
   "nbconvert_exporter": "python",
   "pygments_lexer": "ipython3",
   "version": "3.9.5"
  },
  "varInspector": {
   "cols": {
    "lenName": 16,
    "lenType": 16,
    "lenVar": 40
   },
   "kernels_config": {
    "python": {
     "delete_cmd_postfix": "",
     "delete_cmd_prefix": "del ",
     "library": "var_list.py",
     "varRefreshCmd": "print(var_dic_list())"
    },
    "r": {
     "delete_cmd_postfix": ") ",
     "delete_cmd_prefix": "rm(",
     "library": "var_list.r",
     "varRefreshCmd": "cat(var_dic_list()) "
    }
   },
   "types_to_exclude": [
    "module",
    "function",
    "builtin_function_or_method",
    "instance",
    "_Feature"
   ],
   "window_display": false
  }
 },
 "nbformat": 4,
 "nbformat_minor": 5
}
